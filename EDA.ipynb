{
 "cells": [
  {
   "cell_type": "markdown",
   "id": "ad8bb525-567b-4f9e-84dc-ddb6d0eef4a9",
   "metadata": {},
   "source": [
    "ШИФТ конкурс \"Займы\""
   ]
  },
  {
   "cell_type": "code",
   "execution_count": 10,
   "id": "ef499615-2b1c-44cc-9b4a-9df5b2a01340",
   "metadata": {
    "tags": []
   },
   "outputs": [],
   "source": [
    "import pandas as pd\n",
    "import numpy as np\n",
    "from sklearn.model_selection import train_test_split\n",
    "from sklearn.linear_model import LogisticRegression\n",
    "from sklearn.model_selection import GridSearchCV\n",
    "from sklearn import preprocessing\n",
    "from sklearn.impute import SimpleImputer\n",
    "import sklearn.metrics as metrics\n",
    "from sklearn.metrics import roc_auc_score\n",
    "import matplotlib.pyplot as plt\n",
    "import seaborn as sns\n",
    "import matplotlib.gridspec as gridspec\n",
    "import matplotlib.pylab as pl"
   ]
  },
  {
   "cell_type": "code",
   "execution_count": 11,
   "id": "86f09c68-8186-41fa-a593-b777e82dc79b",
   "metadata": {
    "tags": []
   },
   "outputs": [
    {
     "data": {
      "text/html": [
       "<div>\n",
       "<style scoped>\n",
       "    .dataframe tbody tr th:only-of-type {\n",
       "        vertical-align: middle;\n",
       "    }\n",
       "\n",
       "    .dataframe tbody tr th {\n",
       "        vertical-align: top;\n",
       "    }\n",
       "\n",
       "    .dataframe thead th {\n",
       "        text-align: right;\n",
       "    }\n",
       "</style>\n",
       "<table border=\"1\" class=\"dataframe\">\n",
       "  <thead>\n",
       "    <tr style=\"text-align: right;\">\n",
       "      <th></th>\n",
       "      <th>acc_now_delinq</th>\n",
       "      <th>addr_state</th>\n",
       "      <th>annual_inc</th>\n",
       "      <th>chargeoff_within_12_mths</th>\n",
       "      <th>collections_12_mths_ex_med</th>\n",
       "      <th>delinq_2yrs</th>\n",
       "      <th>dti</th>\n",
       "      <th>earliest_cr_line</th>\n",
       "      <th>emp_length</th>\n",
       "      <th>fico_range_high</th>\n",
       "      <th>...</th>\n",
       "      <th>pub_rec_bankruptcies</th>\n",
       "      <th>purpose</th>\n",
       "      <th>revol_util</th>\n",
       "      <th>tax_liens</th>\n",
       "      <th>term</th>\n",
       "      <th>title</th>\n",
       "      <th>total_acc</th>\n",
       "      <th>verification_status</th>\n",
       "      <th>zip_code</th>\n",
       "      <th>loan_status</th>\n",
       "    </tr>\n",
       "    <tr>\n",
       "      <th>index</th>\n",
       "      <th></th>\n",
       "      <th></th>\n",
       "      <th></th>\n",
       "      <th></th>\n",
       "      <th></th>\n",
       "      <th></th>\n",
       "      <th></th>\n",
       "      <th></th>\n",
       "      <th></th>\n",
       "      <th></th>\n",
       "      <th></th>\n",
       "      <th></th>\n",
       "      <th></th>\n",
       "      <th></th>\n",
       "      <th></th>\n",
       "      <th></th>\n",
       "      <th></th>\n",
       "      <th></th>\n",
       "      <th></th>\n",
       "      <th></th>\n",
       "      <th></th>\n",
       "    </tr>\n",
       "  </thead>\n",
       "  <tbody>\n",
       "    <tr>\n",
       "      <th>0</th>\n",
       "      <td>0.0</td>\n",
       "      <td>UT</td>\n",
       "      <td>80000.0</td>\n",
       "      <td>0.0</td>\n",
       "      <td>0.0</td>\n",
       "      <td>0.0</td>\n",
       "      <td>30.49</td>\n",
       "      <td>Oct-1996</td>\n",
       "      <td>4 years</td>\n",
       "      <td>689.0</td>\n",
       "      <td>...</td>\n",
       "      <td>1.0</td>\n",
       "      <td>credit_card</td>\n",
       "      <td>56.1%</td>\n",
       "      <td>0.0</td>\n",
       "      <td>36 months</td>\n",
       "      <td>Credit card refinancing</td>\n",
       "      <td>26.0</td>\n",
       "      <td>Source Verified</td>\n",
       "      <td>847xx</td>\n",
       "      <td>1</td>\n",
       "    </tr>\n",
       "    <tr>\n",
       "      <th>1</th>\n",
       "      <td>0.0</td>\n",
       "      <td>CA</td>\n",
       "      <td>82000.0</td>\n",
       "      <td>0.0</td>\n",
       "      <td>0.0</td>\n",
       "      <td>0.0</td>\n",
       "      <td>7.00</td>\n",
       "      <td>Mar-1993</td>\n",
       "      <td>10+ years</td>\n",
       "      <td>689.0</td>\n",
       "      <td>...</td>\n",
       "      <td>1.0</td>\n",
       "      <td>credit_card</td>\n",
       "      <td>88.3%</td>\n",
       "      <td>0.0</td>\n",
       "      <td>36 months</td>\n",
       "      <td>Credit card refinancing</td>\n",
       "      <td>11.0</td>\n",
       "      <td>Not Verified</td>\n",
       "      <td>900xx</td>\n",
       "      <td>0</td>\n",
       "    </tr>\n",
       "    <tr>\n",
       "      <th>2</th>\n",
       "      <td>0.0</td>\n",
       "      <td>NV</td>\n",
       "      <td>46080.0</td>\n",
       "      <td>0.0</td>\n",
       "      <td>0.0</td>\n",
       "      <td>1.0</td>\n",
       "      <td>17.32</td>\n",
       "      <td>Nov-2000</td>\n",
       "      <td>3 years</td>\n",
       "      <td>674.0</td>\n",
       "      <td>...</td>\n",
       "      <td>0.0</td>\n",
       "      <td>credit_card</td>\n",
       "      <td>18.1%</td>\n",
       "      <td>0.0</td>\n",
       "      <td>36 months</td>\n",
       "      <td>Credit card refinancing</td>\n",
       "      <td>31.0</td>\n",
       "      <td>Source Verified</td>\n",
       "      <td>895xx</td>\n",
       "      <td>1</td>\n",
       "    </tr>\n",
       "    <tr>\n",
       "      <th>3</th>\n",
       "      <td>0.0</td>\n",
       "      <td>AZ</td>\n",
       "      <td>30000.0</td>\n",
       "      <td>0.0</td>\n",
       "      <td>0.0</td>\n",
       "      <td>0.0</td>\n",
       "      <td>7.80</td>\n",
       "      <td>Jan-2010</td>\n",
       "      <td>&lt; 1 year</td>\n",
       "      <td>694.0</td>\n",
       "      <td>...</td>\n",
       "      <td>0.0</td>\n",
       "      <td>car</td>\n",
       "      <td>33.4%</td>\n",
       "      <td>0.0</td>\n",
       "      <td>36 months</td>\n",
       "      <td>Car financing</td>\n",
       "      <td>24.0</td>\n",
       "      <td>Source Verified</td>\n",
       "      <td>853xx</td>\n",
       "      <td>0</td>\n",
       "    </tr>\n",
       "    <tr>\n",
       "      <th>4</th>\n",
       "      <td>0.0</td>\n",
       "      <td>OH</td>\n",
       "      <td>70000.0</td>\n",
       "      <td>0.0</td>\n",
       "      <td>0.0</td>\n",
       "      <td>0.0</td>\n",
       "      <td>13.36</td>\n",
       "      <td>Jan-2002</td>\n",
       "      <td>&lt; 1 year</td>\n",
       "      <td>674.0</td>\n",
       "      <td>...</td>\n",
       "      <td>0.0</td>\n",
       "      <td>other</td>\n",
       "      <td>88.6%</td>\n",
       "      <td>0.0</td>\n",
       "      <td>60 months</td>\n",
       "      <td>Other</td>\n",
       "      <td>16.0</td>\n",
       "      <td>Not Verified</td>\n",
       "      <td>453xx</td>\n",
       "      <td>0</td>\n",
       "    </tr>\n",
       "  </tbody>\n",
       "</table>\n",
       "<p>5 rows × 45 columns</p>\n",
       "</div>"
      ],
      "text/plain": [
       "       acc_now_delinq addr_state  annual_inc  chargeoff_within_12_mths  \\\n",
       "index                                                                    \n",
       "0                 0.0         UT     80000.0                       0.0   \n",
       "1                 0.0         CA     82000.0                       0.0   \n",
       "2                 0.0         NV     46080.0                       0.0   \n",
       "3                 0.0         AZ     30000.0                       0.0   \n",
       "4                 0.0         OH     70000.0                       0.0   \n",
       "\n",
       "       collections_12_mths_ex_med  delinq_2yrs    dti earliest_cr_line  \\\n",
       "index                                                                    \n",
       "0                             0.0          0.0  30.49         Oct-1996   \n",
       "1                             0.0          0.0   7.00         Mar-1993   \n",
       "2                             0.0          1.0  17.32         Nov-2000   \n",
       "3                             0.0          0.0   7.80         Jan-2010   \n",
       "4                             0.0          0.0  13.36         Jan-2002   \n",
       "\n",
       "      emp_length  fico_range_high  ...  pub_rec_bankruptcies      purpose  \\\n",
       "index                              ...                                      \n",
       "0        4 years            689.0  ...                   1.0  credit_card   \n",
       "1      10+ years            689.0  ...                   1.0  credit_card   \n",
       "2        3 years            674.0  ...                   0.0  credit_card   \n",
       "3       < 1 year            694.0  ...                   0.0          car   \n",
       "4       < 1 year            674.0  ...                   0.0        other   \n",
       "\n",
       "      revol_util  tax_liens        term                    title total_acc  \\\n",
       "index                                                                        \n",
       "0          56.1%        0.0   36 months  Credit card refinancing      26.0   \n",
       "1          88.3%        0.0   36 months  Credit card refinancing      11.0   \n",
       "2          18.1%        0.0   36 months  Credit card refinancing      31.0   \n",
       "3          33.4%        0.0   36 months            Car financing      24.0   \n",
       "4          88.6%        0.0   60 months                    Other      16.0   \n",
       "\n",
       "       verification_status  zip_code  loan_status  \n",
       "index                                              \n",
       "0          Source Verified     847xx            1  \n",
       "1             Not Verified     900xx            0  \n",
       "2          Source Verified     895xx            1  \n",
       "3          Source Verified     853xx            0  \n",
       "4             Not Verified     453xx            0  \n",
       "\n",
       "[5 rows x 45 columns]"
      ]
     },
     "execution_count": 11,
     "metadata": {},
     "output_type": "execute_result"
    }
   ],
   "source": [
    "df = pd.read_csv('C:/Users/ivans/Shift/lending/X_train.csv', index_col=\"index\")\n",
    "y = pd.read_csv('C:/Users/ivans/Shift/lending/y_train.csv', index_col=\"index\")\n",
    "df['loan_status']=y['loan_status']\n",
    "df.head()"
   ]
  },
  {
   "cell_type": "code",
   "execution_count": 12,
   "id": "a0a87608-783b-4b43-8de8-bb36b7f3cefe",
   "metadata": {
    "tags": []
   },
   "outputs": [
    {
     "name": "stdout",
     "output_type": "stream",
     "text": [
      "Index(['acc_now_delinq', 'addr_state', 'annual_inc',\n",
      "       'chargeoff_within_12_mths', 'collections_12_mths_ex_med', 'delinq_2yrs',\n",
      "       'dti', 'earliest_cr_line', 'emp_length', 'fico_range_high',\n",
      "       'fico_range_low', 'funded_amnt', 'home_ownership', 'inq_last_12m',\n",
      "       'installment', 'int_rate', 'issue_d', 'loan_amnt', 'mort_acc',\n",
      "       'mths_since_last_delinq', 'mths_since_recent_bc_dlq',\n",
      "       'mths_since_recent_inq', 'num_accts_ever_120_pd', 'num_actv_bc_tl',\n",
      "       'num_rev_accts', 'num_sats', 'num_tl_120dpd_2m', 'num_tl_30dpd',\n",
      "       'num_tl_90g_dpd_24m', 'num_tl_op_past_12m', 'open_acc', 'open_il_24m',\n",
      "       'open_rv_24m', 'percent_bc_gt_75', 'pub_rec', 'pub_rec_bankruptcies',\n",
      "       'purpose', 'revol_util', 'tax_liens', 'term', 'title', 'total_acc',\n",
      "       'verification_status', 'zip_code', 'loan_status'],\n",
      "      dtype='object')\n"
     ]
    }
   ],
   "source": [
    "print(df.columns)"
   ]
  },
  {
   "cell_type": "code",
   "execution_count": 13,
   "id": "428a5d5b-6a6b-4042-b0a7-4668d250d433",
   "metadata": {
    "tags": []
   },
   "outputs": [],
   "source": [
    "df['fico_mean']=(df['fico_range_high']+df['fico_range_low'])/2\n",
    "df['share_of_open_acc']=df['open_acc']/df['total_acc']\n",
    "df['bad_rec']=(df['pub_rec']+df['pub_rec_bankruptcies'])/2\n",
    "# df['number_of_rv_for_12m']=df['open_rv_24m']/2\n",
    "df['credit_load']=df['installment']*12/df['annual_inc']\n",
    "df['purpose'].replace(['credit_card', 'car', 'other', 'debt_consolidation',\n",
    "       'major_purchase', 'small_business', 'home_improvement', 'moving',\n",
    "       'medical', 'wedding', 'vacation', 'house', 'renewable_energy',\n",
    "       'educational'], [1,2,3,4,5,6,7,8,9,10,11,12,13,14], inplace=True)\n",
    "df['term'].replace([' 36 months', ' 60 months'], [1,2], inplace=True)\n",
    "df['verification_status'].replace(['Source Verified', 'Not Verified', 'Verified'], [1,2,3], inplace=True)\n",
    "df['home_ownership'].replace(['RENT', 'MORTGAGE', 'OWN', 'OTHER', 'ANY', 'NONE'], [1,2,3,2,2,2], inplace=True)\n",
    "df['int_rate']=df['int_rate'].str.replace('%', '').astype(float)\n",
    "df['revol_util']=df['revol_util'].str.replace('%', '').astype(float)\n",
    "df['emp_length'].replace(['4 years', '10+ years', '3 years', '< 1 year', '5 years', '1 year',\n",
    "       '7 years', '8 years', '2 years', '9 years', '6 years', np.nan], [4, 10,3,0.5,5,1,\n",
    "       7,8,2,9, 6,10], inplace=True)\n",
    "# df['year'] = pd.to_datetime(df['earliest_cr_line']).dt.year\n",
    "df.loc[df['annual_inc']>160000, 'annual_inc']=df['annual_inc'].median()\n",
    "# df = pd.get_dummies(data=df, columns=['verification_status'])"
   ]
  },
  {
   "cell_type": "code",
   "execution_count": 14,
   "id": "ac574c2b-6f18-4c43-85cb-75b825f2fafa",
   "metadata": {
    "tags": []
   },
   "outputs": [
    {
     "data": {
      "text/html": [
       "<div>\n",
       "<style scoped>\n",
       "    .dataframe tbody tr th:only-of-type {\n",
       "        vertical-align: middle;\n",
       "    }\n",
       "\n",
       "    .dataframe tbody tr th {\n",
       "        vertical-align: top;\n",
       "    }\n",
       "\n",
       "    .dataframe thead th {\n",
       "        text-align: right;\n",
       "    }\n",
       "</style>\n",
       "<table border=\"1\" class=\"dataframe\">\n",
       "  <thead>\n",
       "    <tr style=\"text-align: right;\">\n",
       "      <th>loan_status</th>\n",
       "      <th>verification_status</th>\n",
       "      <th>0</th>\n",
       "      <th>1</th>\n",
       "    </tr>\n",
       "  </thead>\n",
       "  <tbody>\n",
       "    <tr>\n",
       "      <th>0</th>\n",
       "      <td>Not Verified</td>\n",
       "      <td>0.850939</td>\n",
       "      <td>0.149061</td>\n",
       "    </tr>\n",
       "    <tr>\n",
       "      <th>1</th>\n",
       "      <td>Source Verified</td>\n",
       "      <td>0.799828</td>\n",
       "      <td>0.200172</td>\n",
       "    </tr>\n",
       "    <tr>\n",
       "      <th>2</th>\n",
       "      <td>Verified</td>\n",
       "      <td>0.768710</td>\n",
       "      <td>0.231290</td>\n",
       "    </tr>\n",
       "  </tbody>\n",
       "</table>\n",
       "</div>"
      ],
      "text/plain": [
       "loan_status verification_status         0         1\n",
       "0                  Not Verified  0.850939  0.149061\n",
       "1               Source Verified  0.799828  0.200172\n",
       "2                      Verified  0.768710  0.231290"
      ]
     },
     "execution_count": 14,
     "metadata": {},
     "output_type": "execute_result"
    }
   ],
   "source": [
    "data['\n",
    "data=pd.crosstab(df['verification_status'], df['loan_status'], normalize='index').reset_index().sort_values(by=1)\n",
    "data"
   ]
  },
  {
   "cell_type": "code",
   "execution_count": 15,
   "id": "32f3eece-434a-457d-972e-fc63642c7535",
   "metadata": {
    "tags": []
   },
   "outputs": [
    {
     "data": {
      "image/png": "[encoded data removed]",
      "text/plain": [
       "<Figure size 2000x1000 with 1 Axes>"
      ]
     },
     "metadata": {},
     "output_type": "display_data"
    }
   ],
   "source": [
    "plt.figure(figsize=(20,10))\n",
    "plt.bar(data['verification_status'], data[0], label='0')\n",
    "plt.bar(data['verification_status'], data[1], bottom=data[0], label='1')\n",
    "plt.title('Сравнение возврата кредита в зависимости от верификации')\n",
    "plt.xlabel('вид верификации дохода')\n",
    "plt.ylabel('количество аналогичных случаев')\n",
    "plt.legend()\n",
    "plt.xticks()\n",
    "plt.show()"
   ]
  },
  {
   "cell_type": "code",
   "execution_count": 31,
   "id": "6b93f039-484a-4ad5-8842-4f0c43e8922f",
   "metadata": {
    "tags": []
   },
   "outputs": [
    {
     "data": {
      "text/plain": [
       "index\n",
       "0          Oct-1996\n",
       "1          Mar-1993\n",
       "2          Nov-2000\n",
       "3          Jan-2010\n",
       "4          Jan-2002\n",
       "             ...   \n",
       "1199856    Feb-2002\n",
       "1199857    Jan-2002\n",
       "1199858    Nov-2002\n",
       "1199859    Nov-1991\n",
       "1199860    Sep-2007\n",
       "Name: earliest_cr_line, Length: 1199861, dtype: object"
      ]
     },
     "execution_count": 31,
     "metadata": {},
     "output_type": "execute_result"
    }
   ],
   "source": [
    "df['earliest_cr_line']"
   ]
  },
  {
   "cell_type": "code",
   "execution_count": 32,
   "id": "1d9f2ff5-d642-48d4-86fd-8a1f849009cf",
   "metadata": {
    "tags": []
   },
   "outputs": [
    {
     "data": {
      "text/plain": [
       "index\n",
       "0          2016\n",
       "1          2017\n",
       "2          2016\n",
       "3          2015\n",
       "4          2017\n",
       "           ... \n",
       "1199856    2012\n",
       "1199857    2013\n",
       "1199858    2015\n",
       "1199859    2012\n",
       "1199860    2015\n",
       "Name: year, Length: 1199861, dtype: int64"
      ]
     },
     "execution_count": 32,
     "metadata": {},
     "output_type": "execute_result"
    }
   ],
   "source": [
    "df['year'] = pd.to_datetime(df['issue_d']).dt.year\n",
    "df['year']"
   ]
  },
  {
   "cell_type": "code",
   "execution_count": 33,
   "id": "545fc4a9-85b5-409f-ad5c-f1470bc8d995",
   "metadata": {
    "tags": []
   },
   "outputs": [
    {
     "data": {
      "text/plain": [
       "index\n",
       "0           4\n",
       "1           9\n",
       "2           8\n",
       "3           8\n",
       "4           9\n",
       "           ..\n",
       "1199856     6\n",
       "1199857    11\n",
       "1199858    12\n",
       "1199859     6\n",
       "1199860     5\n",
       "Name: month, Length: 1199861, dtype: int64"
      ]
     },
     "execution_count": 33,
     "metadata": {},
     "output_type": "execute_result"
    }
   ],
   "source": [
    "df['month'] = pd.to_datetime(df['issue_d']).dt.month\n",
    "df['month']"
   ]
  },
  {
   "cell_type": "code",
   "execution_count": 34,
   "id": "836777a6-af9e-4b9a-b826-6cc57c71c259",
   "metadata": {
    "tags": []
   },
   "outputs": [],
   "source": [
    "# df.loc[df['open_rv_24m']>8, 'open_rv_24m']=df['open_rv_24m'].median()"
   ]
  },
  {
   "cell_type": "code",
   "execution_count": 41,
   "id": "d9babaed-53f8-4530-a626-8d4529c87da3",
   "metadata": {
    "tags": []
   },
   "outputs": [
    {
     "data": {
      "image/png": "[encoded data removed]",
      "text/plain": [
       "<Figure size 1000x600 with 1 Axes>"
      ]
     },
     "metadata": {},
     "output_type": "display_data"
    }
   ],
   "source": [
    "plt.figure(figsize=(10,6))\n",
    "sns.boxplot(df['tax_liens'],whis=1.5)\n",
    "plt.title('коэффициент использования возобновляемой кредитной линии')\n",
    "plt.xlabel('amount')\n",
    "plt.ylabel('count')\n",
    "plt.show()"
   ]
  },
  {
   "cell_type": "code",
   "execution_count": 40,
   "id": "d69d71c9-dd82-4330-9799-8680767014b3",
   "metadata": {
    "tags": []
   },
   "outputs": [
    {
     "data": {
      "image/png": "[encoded data removed]",
      "text/plain": [
       "<Figure size 1000x600 with 1 Axes>"
      ]
     },
     "metadata": {},
     "output_type": "display_data"
    }
   ],
   "source": [
    "plt.figure(figsize=(10,6))\n",
    "plt.boxplot(df['tax_liens'], showfliers=False)\n",
    "plt.title('range of income')\n",
    "plt.xlabel('amount')\n",
    "plt.ylabel('count')\n",
    "plt.show()"
   ]
  },
  {
   "cell_type": "code",
   "execution_count": 68,
   "id": "005d97d1-cd17-48ca-ae6b-ea2ff064e0e2",
   "metadata": {
    "tags": []
   },
   "outputs": [
    {
     "data": {
      "text/html": [
       "<div>\n",
       "<style scoped>\n",
       "    .dataframe tbody tr th:only-of-type {\n",
       "        vertical-align: middle;\n",
       "    }\n",
       "\n",
       "    .dataframe tbody tr th {\n",
       "        vertical-align: top;\n",
       "    }\n",
       "\n",
       "    .dataframe thead th {\n",
       "        text-align: right;\n",
       "    }\n",
       "</style>\n",
       "<table border=\"1\" class=\"dataframe\">\n",
       "  <thead>\n",
       "    <tr style=\"text-align: right;\">\n",
       "      <th></th>\n",
       "      <th>month</th>\n",
       "      <th>count</th>\n",
       "    </tr>\n",
       "  </thead>\n",
       "  <tbody>\n",
       "    <tr>\n",
       "      <th>0</th>\n",
       "      <td>1</td>\n",
       "      <td>99064</td>\n",
       "    </tr>\n",
       "    <tr>\n",
       "      <th>1</th>\n",
       "      <td>2</td>\n",
       "      <td>89421</td>\n",
       "    </tr>\n",
       "    <tr>\n",
       "      <th>2</th>\n",
       "      <td>3</td>\n",
       "      <td>111869</td>\n",
       "    </tr>\n",
       "    <tr>\n",
       "      <th>3</th>\n",
       "      <td>4</td>\n",
       "      <td>102579</td>\n",
       "    </tr>\n",
       "    <tr>\n",
       "      <th>4</th>\n",
       "      <td>5</td>\n",
       "      <td>97915</td>\n",
       "    </tr>\n",
       "    <tr>\n",
       "      <th>5</th>\n",
       "      <td>6</td>\n",
       "      <td>91947</td>\n",
       "    </tr>\n",
       "    <tr>\n",
       "      <th>6</th>\n",
       "      <td>7</td>\n",
       "      <td>113755</td>\n",
       "    </tr>\n",
       "    <tr>\n",
       "      <th>7</th>\n",
       "      <td>8</td>\n",
       "      <td>101633</td>\n",
       "    </tr>\n",
       "    <tr>\n",
       "      <th>8</th>\n",
       "      <td>9</td>\n",
       "      <td>81745</td>\n",
       "    </tr>\n",
       "    <tr>\n",
       "      <th>9</th>\n",
       "      <td>10</td>\n",
       "      <td>116379</td>\n",
       "    </tr>\n",
       "    <tr>\n",
       "      <th>10</th>\n",
       "      <td>11</td>\n",
       "      <td>100204</td>\n",
       "    </tr>\n",
       "    <tr>\n",
       "      <th>11</th>\n",
       "      <td>12</td>\n",
       "      <td>93350</td>\n",
       "    </tr>\n",
       "  </tbody>\n",
       "</table>\n",
       "</div>"
      ],
      "text/plain": [
       "    month   count\n",
       "0       1   99064\n",
       "1       2   89421\n",
       "2       3  111869\n",
       "3       4  102579\n",
       "4       5   97915\n",
       "5       6   91947\n",
       "6       7  113755\n",
       "7       8  101633\n",
       "8       9   81745\n",
       "9      10  116379\n",
       "10     11  100204\n",
       "11     12   93350"
      ]
     },
     "execution_count": 68,
     "metadata": {},
     "output_type": "execute_result"
    }
   ],
   "source": [
    "data=df.groupby('month')['loan_status'].agg(count='count').reset_index().sort_values(by='month')\n",
    "data"
   ]
  },
  {
   "cell_type": "code",
   "execution_count": 69,
   "id": "3fb02f6f-931d-4830-98a2-33480f9c0937",
   "metadata": {
    "tags": []
   },
   "outputs": [
    {
     "data": {
      "text/html": [
       "<div>\n",
       "<style scoped>\n",
       "    .dataframe tbody tr th:only-of-type {\n",
       "        vertical-align: middle;\n",
       "    }\n",
       "\n",
       "    .dataframe tbody tr th {\n",
       "        vertical-align: top;\n",
       "    }\n",
       "\n",
       "    .dataframe thead th {\n",
       "        text-align: right;\n",
       "    }\n",
       "</style>\n",
       "<table border=\"1\" class=\"dataframe\">\n",
       "  <thead>\n",
       "    <tr style=\"text-align: right;\">\n",
       "      <th>loan_status</th>\n",
       "      <th>year</th>\n",
       "      <th>0</th>\n",
       "      <th>1</th>\n",
       "    </tr>\n",
       "  </thead>\n",
       "  <tbody>\n",
       "    <tr>\n",
       "      <th>13</th>\n",
       "      <td>2020</td>\n",
       "      <td>0.986609</td>\n",
       "      <td>0.013391</td>\n",
       "    </tr>\n",
       "    <tr>\n",
       "      <th>2</th>\n",
       "      <td>2009</td>\n",
       "      <td>0.874960</td>\n",
       "      <td>0.125040</td>\n",
       "    </tr>\n",
       "    <tr>\n",
       "      <th>3</th>\n",
       "      <td>2010</td>\n",
       "      <td>0.872781</td>\n",
       "      <td>0.127219</td>\n",
       "    </tr>\n",
       "    <tr>\n",
       "      <th>4</th>\n",
       "      <td>2011</td>\n",
       "      <td>0.850014</td>\n",
       "      <td>0.149986</td>\n",
       "    </tr>\n",
       "    <tr>\n",
       "      <th>1</th>\n",
       "      <td>2008</td>\n",
       "      <td>0.844575</td>\n",
       "      <td>0.155425</td>\n",
       "    </tr>\n",
       "    <tr>\n",
       "      <th>6</th>\n",
       "      <td>2013</td>\n",
       "      <td>0.843646</td>\n",
       "      <td>0.156354</td>\n",
       "    </tr>\n",
       "    <tr>\n",
       "      <th>5</th>\n",
       "      <td>2012</td>\n",
       "      <td>0.836851</td>\n",
       "      <td>0.163149</td>\n",
       "    </tr>\n",
       "    <tr>\n",
       "      <th>12</th>\n",
       "      <td>2019</td>\n",
       "      <td>0.826232</td>\n",
       "      <td>0.173768</td>\n",
       "    </tr>\n",
       "    <tr>\n",
       "      <th>7</th>\n",
       "      <td>2014</td>\n",
       "      <td>0.822944</td>\n",
       "      <td>0.177056</td>\n",
       "    </tr>\n",
       "    <tr>\n",
       "      <th>0</th>\n",
       "      <td>2007</td>\n",
       "      <td>0.808642</td>\n",
       "      <td>0.191358</td>\n",
       "    </tr>\n",
       "    <tr>\n",
       "      <th>9</th>\n",
       "      <td>2016</td>\n",
       "      <td>0.803857</td>\n",
       "      <td>0.196143</td>\n",
       "    </tr>\n",
       "    <tr>\n",
       "      <th>8</th>\n",
       "      <td>2015</td>\n",
       "      <td>0.801985</td>\n",
       "      <td>0.198015</td>\n",
       "    </tr>\n",
       "    <tr>\n",
       "      <th>10</th>\n",
       "      <td>2017</td>\n",
       "      <td>0.793070</td>\n",
       "      <td>0.206930</td>\n",
       "    </tr>\n",
       "    <tr>\n",
       "      <th>11</th>\n",
       "      <td>2018</td>\n",
       "      <td>0.765586</td>\n",
       "      <td>0.234414</td>\n",
       "    </tr>\n",
       "  </tbody>\n",
       "</table>\n",
       "</div>"
      ],
      "text/plain": [
       "loan_status  year         0         1\n",
       "13           2020  0.986609  0.013391\n",
       "2            2009  0.874960  0.125040\n",
       "3            2010  0.872781  0.127219\n",
       "4            2011  0.850014  0.149986\n",
       "1            2008  0.844575  0.155425\n",
       "6            2013  0.843646  0.156354\n",
       "5            2012  0.836851  0.163149\n",
       "12           2019  0.826232  0.173768\n",
       "7            2014  0.822944  0.177056\n",
       "0            2007  0.808642  0.191358\n",
       "9            2016  0.803857  0.196143\n",
       "8            2015  0.801985  0.198015\n",
       "10           2017  0.793070  0.206930\n",
       "11           2018  0.765586  0.234414"
      ]
     },
     "execution_count": 69,
     "metadata": {},
     "output_type": "execute_result"
    }
   ],
   "source": [
    "data=pd.crosstab(df['year'], df['loan_status'], normalize='index').reset_index().sort_values(by=1)\n",
    "data"
   ]
  },
  {
   "cell_type": "code",
   "execution_count": 70,
   "id": "6de63ea1-bc44-4396-8f74-d7add5b75057",
   "metadata": {
    "tags": []
   },
   "outputs": [
    {
     "data": {
      "image/png": "[encoded data removed]",
      "text/plain": [
       "<Figure size 2000x1000 with 1 Axes>"
      ]
     },
     "metadata": {},
     "output_type": "display_data"
    }
   ],
   "source": [
    "plt.figure(figsize=(20,10))\n",
    "plt.bar(data['year'], data[0], label='0')\n",
    "plt.bar(data['year'], data[1], bottom=data[0], label='1')\n",
    "plt.title('Сравнение возврата кредита в зависимости от года когда взяли кредит')\n",
    "plt.xlabel('месяц')\n",
    "plt.ylabel('количество аналогичных случаев')\n",
    "plt.legend()\n",
    "plt.xticks()\n",
    "plt.show()"
   ]
  },
  {
   "cell_type": "code",
   "execution_count": 71,
   "id": "17349290-9875-4e81-a976-8017e41ef744",
   "metadata": {
    "tags": []
   },
   "outputs": [
    {
     "data": {
      "text/plain": [
       "['Solarize_Light2',\n",
       " '_classic_test_patch',\n",
       " '_mpl-gallery',\n",
       " '_mpl-gallery-nogrid',\n",
       " 'bmh',\n",
       " 'classic',\n",
       " 'dark_background',\n",
       " 'fast',\n",
       " 'fivethirtyeight',\n",
       " 'ggplot',\n",
       " 'grayscale',\n",
       " 'seaborn-v0_8',\n",
       " 'seaborn-v0_8-bright',\n",
       " 'seaborn-v0_8-colorblind',\n",
       " 'seaborn-v0_8-dark',\n",
       " 'seaborn-v0_8-dark-palette',\n",
       " 'seaborn-v0_8-darkgrid',\n",
       " 'seaborn-v0_8-deep',\n",
       " 'seaborn-v0_8-muted',\n",
       " 'seaborn-v0_8-notebook',\n",
       " 'seaborn-v0_8-paper',\n",
       " 'seaborn-v0_8-pastel',\n",
       " 'seaborn-v0_8-poster',\n",
       " 'seaborn-v0_8-talk',\n",
       " 'seaborn-v0_8-ticks',\n",
       " 'seaborn-v0_8-white',\n",
       " 'seaborn-v0_8-whitegrid',\n",
       " 'tableau-colorblind10']"
      ]
     },
     "execution_count": 71,
     "metadata": {},
     "output_type": "execute_result"
    }
   ],
   "source": [
    "plt.style.available"
   ]
  },
  {
   "cell_type": "code",
   "execution_count": 72,
   "id": "66bd2c9f-8f9e-43b0-903f-621c641e0dcf",
   "metadata": {
    "tags": []
   },
   "outputs": [],
   "source": [
    "plt.style.use('fivethirtyeight')"
   ]
  },
  {
   "cell_type": "code",
   "execution_count": 73,
   "id": "93ff6469-9000-4d16-a19e-9eba01173373",
   "metadata": {
    "tags": []
   },
   "outputs": [
    {
     "data": {
      "text/html": [
       "<div>\n",
       "<style scoped>\n",
       "    .dataframe tbody tr th:only-of-type {\n",
       "        vertical-align: middle;\n",
       "    }\n",
       "\n",
       "    .dataframe tbody tr th {\n",
       "        vertical-align: top;\n",
       "    }\n",
       "\n",
       "    .dataframe thead th {\n",
       "        text-align: right;\n",
       "    }\n",
       "</style>\n",
       "<table border=\"1\" class=\"dataframe\">\n",
       "  <thead>\n",
       "    <tr style=\"text-align: right;\">\n",
       "      <th></th>\n",
       "      <th>month</th>\n",
       "      <th>count</th>\n",
       "    </tr>\n",
       "  </thead>\n",
       "  <tbody>\n",
       "    <tr>\n",
       "      <th>0</th>\n",
       "      <td>1</td>\n",
       "      <td>99064</td>\n",
       "    </tr>\n",
       "    <tr>\n",
       "      <th>1</th>\n",
       "      <td>2</td>\n",
       "      <td>89421</td>\n",
       "    </tr>\n",
       "    <tr>\n",
       "      <th>2</th>\n",
       "      <td>3</td>\n",
       "      <td>111869</td>\n",
       "    </tr>\n",
       "    <tr>\n",
       "      <th>3</th>\n",
       "      <td>4</td>\n",
       "      <td>102579</td>\n",
       "    </tr>\n",
       "    <tr>\n",
       "      <th>4</th>\n",
       "      <td>5</td>\n",
       "      <td>97915</td>\n",
       "    </tr>\n",
       "    <tr>\n",
       "      <th>5</th>\n",
       "      <td>6</td>\n",
       "      <td>91947</td>\n",
       "    </tr>\n",
       "    <tr>\n",
       "      <th>6</th>\n",
       "      <td>7</td>\n",
       "      <td>113755</td>\n",
       "    </tr>\n",
       "    <tr>\n",
       "      <th>7</th>\n",
       "      <td>8</td>\n",
       "      <td>101633</td>\n",
       "    </tr>\n",
       "    <tr>\n",
       "      <th>8</th>\n",
       "      <td>9</td>\n",
       "      <td>81745</td>\n",
       "    </tr>\n",
       "    <tr>\n",
       "      <th>9</th>\n",
       "      <td>10</td>\n",
       "      <td>116379</td>\n",
       "    </tr>\n",
       "    <tr>\n",
       "      <th>10</th>\n",
       "      <td>11</td>\n",
       "      <td>100204</td>\n",
       "    </tr>\n",
       "    <tr>\n",
       "      <th>11</th>\n",
       "      <td>12</td>\n",
       "      <td>93350</td>\n",
       "    </tr>\n",
       "  </tbody>\n",
       "</table>\n",
       "</div>"
      ],
      "text/plain": [
       "    month   count\n",
       "0       1   99064\n",
       "1       2   89421\n",
       "2       3  111869\n",
       "3       4  102579\n",
       "4       5   97915\n",
       "5       6   91947\n",
       "6       7  113755\n",
       "7       8  101633\n",
       "8       9   81745\n",
       "9      10  116379\n",
       "10     11  100204\n",
       "11     12   93350"
      ]
     },
     "execution_count": 73,
     "metadata": {},
     "output_type": "execute_result"
    }
   ],
   "source": [
    "data=df.groupby('month')['loan_status'].agg(count='count').reset_index().sort_values(by='month')\n",
    "data"
   ]
  },
  {
   "cell_type": "code",
   "execution_count": 74,
   "id": "7be5b1fc-c6df-4bdb-b404-18acd66b6ac9",
   "metadata": {
    "tags": []
   },
   "outputs": [
    {
     "data": {
      "image/png": "[encoded data removed]",
      "text/plain": [
       "<Figure size 1000x600 with 1 Axes>"
      ]
     },
     "metadata": {},
     "output_type": "display_data"
    }
   ],
   "source": [
    "plt.style.use('ggplot')\n",
    "plt.figure(figsize=(10,6))\n",
    "plt.plot(data['month'], data['count'])\n",
    "plt.title('month vs number_of loan')\n",
    "plt.xlabel('month')\n",
    "plt.ylabel('loans')\n",
    "plt.show()"
   ]
  },
  {
   "cell_type": "code",
   "execution_count": 75,
   "id": "65c73c6a-d0d3-495c-b329-0ac5453d15c3",
   "metadata": {
    "tags": []
   },
   "outputs": [
    {
     "data": {
      "image/png": "[encoded data removed]",
      "text/plain": [
       "<Figure size 1000x600 with 1 Axes>"
      ]
     },
     "metadata": {},
     "output_type": "display_data"
    }
   ],
   "source": [
    "plt.figure(figsize=(10,6))\n",
    "plt.hist(df['verification_status'], bins=5)\n",
    "plt.title('verification')\n",
    "plt.xlabel('kind of')\n",
    "plt.ylabel('number')\n",
    "plt.show()"
   ]
  },
  {
   "cell_type": "code",
   "execution_count": 76,
   "id": "e57b04f8-e397-41f6-9814-7759858e0cce",
   "metadata": {
    "tags": []
   },
   "outputs": [
    {
     "ename": "KeyError",
     "evalue": "'month_first'",
     "output_type": "error",
     "traceback": [
      "\u001b[1;31m---------------------------------------------------------------------------\u001b[0m",
      "\u001b[1;31mKeyError\u001b[0m                                  Traceback (most recent call last)",
      "Cell \u001b[1;32mIn[76], line 1\u001b[0m\n\u001b[1;32m----> 1\u001b[0m data1\u001b[38;5;241m=\u001b[39mdf[df[\u001b[38;5;124m'\u001b[39m\u001b[38;5;124mverification_status\u001b[39m\u001b[38;5;124m'\u001b[39m]\u001b[38;5;241m==\u001b[39m\u001b[38;5;124m'\u001b[39m\u001b[38;5;124mVerified\u001b[39m\u001b[38;5;124m'\u001b[39m]\u001b[38;5;241m.\u001b[39mgroupby(\u001b[38;5;124m'\u001b[39m\u001b[38;5;124mmonth_first\u001b[39m\u001b[38;5;124m'\u001b[39m)[\u001b[38;5;124m'\u001b[39m\u001b[38;5;124mzip_code\u001b[39m\u001b[38;5;124m'\u001b[39m]\u001b[38;5;241m.\u001b[39magg(count\u001b[38;5;241m=\u001b[39m\u001b[38;5;124m'\u001b[39m\u001b[38;5;124mcount\u001b[39m\u001b[38;5;124m'\u001b[39m)\u001b[38;5;241m.\u001b[39mreset_index()\u001b[38;5;241m.\u001b[39msort_values(by\u001b[38;5;241m=\u001b[39m\u001b[38;5;124m'\u001b[39m\u001b[38;5;124mmonth_first\u001b[39m\u001b[38;5;124m'\u001b[39m)\n\u001b[0;32m      2\u001b[0m data2\u001b[38;5;241m=\u001b[39mdf[df[\u001b[38;5;124m'\u001b[39m\u001b[38;5;124mverification_status\u001b[39m\u001b[38;5;124m'\u001b[39m]\u001b[38;5;241m==\u001b[39m\u001b[38;5;124m'\u001b[39m\u001b[38;5;124mNot Verified\u001b[39m\u001b[38;5;124m'\u001b[39m]\u001b[38;5;241m.\u001b[39mgroupby(\u001b[38;5;124m'\u001b[39m\u001b[38;5;124mmonth_first\u001b[39m\u001b[38;5;124m'\u001b[39m)[\u001b[38;5;124m'\u001b[39m\u001b[38;5;124mzip_code\u001b[39m\u001b[38;5;124m'\u001b[39m]\u001b[38;5;241m.\u001b[39magg(count\u001b[38;5;241m=\u001b[39m\u001b[38;5;124m'\u001b[39m\u001b[38;5;124mcount\u001b[39m\u001b[38;5;124m'\u001b[39m)\u001b[38;5;241m.\u001b[39mreset_index()\u001b[38;5;241m.\u001b[39msort_values(by\u001b[38;5;241m=\u001b[39m\u001b[38;5;124m'\u001b[39m\u001b[38;5;124mmonth_first\u001b[39m\u001b[38;5;124m'\u001b[39m)\n\u001b[0;32m      3\u001b[0m data3\u001b[38;5;241m=\u001b[39mdf[df[\u001b[38;5;124m'\u001b[39m\u001b[38;5;124mverification_status\u001b[39m\u001b[38;5;124m'\u001b[39m]\u001b[38;5;241m==\u001b[39m\u001b[38;5;124m'\u001b[39m\u001b[38;5;124mSource Verified\u001b[39m\u001b[38;5;124m'\u001b[39m]\u001b[38;5;241m.\u001b[39mgroupby(\u001b[38;5;124m'\u001b[39m\u001b[38;5;124mmonth_first\u001b[39m\u001b[38;5;124m'\u001b[39m)[\u001b[38;5;124m'\u001b[39m\u001b[38;5;124mzip_code\u001b[39m\u001b[38;5;124m'\u001b[39m]\u001b[38;5;241m.\u001b[39magg(count\u001b[38;5;241m=\u001b[39m\u001b[38;5;124m'\u001b[39m\u001b[38;5;124mcount\u001b[39m\u001b[38;5;124m'\u001b[39m)\u001b[38;5;241m.\u001b[39mreset_index()\u001b[38;5;241m.\u001b[39msort_values(by\u001b[38;5;241m=\u001b[39m\u001b[38;5;124m'\u001b[39m\u001b[38;5;124mmonth_first\u001b[39m\u001b[38;5;124m'\u001b[39m)\n",
      "File \u001b[1;32m~\\anaconda3\\Lib\\site-packages\\pandas\\core\\frame.py:8402\u001b[0m, in \u001b[0;36mDataFrame.groupby\u001b[1;34m(self, by, axis, level, as_index, sort, group_keys, squeeze, observed, dropna)\u001b[0m\n\u001b[0;32m   8399\u001b[0m     \u001b[38;5;28;01mraise\u001b[39;00m \u001b[38;5;167;01mTypeError\u001b[39;00m(\u001b[38;5;124m\"\u001b[39m\u001b[38;5;124mYou have to supply one of \u001b[39m\u001b[38;5;124m'\u001b[39m\u001b[38;5;124mby\u001b[39m\u001b[38;5;124m'\u001b[39m\u001b[38;5;124m and \u001b[39m\u001b[38;5;124m'\u001b[39m\u001b[38;5;124mlevel\u001b[39m\u001b[38;5;124m'\u001b[39m\u001b[38;5;124m\"\u001b[39m)\n\u001b[0;32m   8400\u001b[0m axis \u001b[38;5;241m=\u001b[39m \u001b[38;5;28mself\u001b[39m\u001b[38;5;241m.\u001b[39m_get_axis_number(axis)\n\u001b[1;32m-> 8402\u001b[0m \u001b[38;5;28;01mreturn\u001b[39;00m DataFrameGroupBy(\n\u001b[0;32m   8403\u001b[0m     obj\u001b[38;5;241m=\u001b[39m\u001b[38;5;28mself\u001b[39m,\n\u001b[0;32m   8404\u001b[0m     keys\u001b[38;5;241m=\u001b[39mby,\n\u001b[0;32m   8405\u001b[0m     axis\u001b[38;5;241m=\u001b[39maxis,\n\u001b[0;32m   8406\u001b[0m     level\u001b[38;5;241m=\u001b[39mlevel,\n\u001b[0;32m   8407\u001b[0m     as_index\u001b[38;5;241m=\u001b[39mas_index,\n\u001b[0;32m   8408\u001b[0m     sort\u001b[38;5;241m=\u001b[39msort,\n\u001b[0;32m   8409\u001b[0m     group_keys\u001b[38;5;241m=\u001b[39mgroup_keys,\n\u001b[0;32m   8410\u001b[0m     squeeze\u001b[38;5;241m=\u001b[39msqueeze,\n\u001b[0;32m   8411\u001b[0m     observed\u001b[38;5;241m=\u001b[39mobserved,\n\u001b[0;32m   8412\u001b[0m     dropna\u001b[38;5;241m=\u001b[39mdropna,\n\u001b[0;32m   8413\u001b[0m )\n",
      "File \u001b[1;32m~\\anaconda3\\Lib\\site-packages\\pandas\\core\\groupby\\groupby.py:965\u001b[0m, in \u001b[0;36mGroupBy.__init__\u001b[1;34m(self, obj, keys, axis, level, grouper, exclusions, selection, as_index, sort, group_keys, squeeze, observed, mutated, dropna)\u001b[0m\n\u001b[0;32m    962\u001b[0m \u001b[38;5;28;01mif\u001b[39;00m grouper \u001b[38;5;129;01mis\u001b[39;00m \u001b[38;5;28;01mNone\u001b[39;00m:\n\u001b[0;32m    963\u001b[0m     \u001b[38;5;28;01mfrom\u001b[39;00m \u001b[38;5;21;01mpandas\u001b[39;00m\u001b[38;5;21;01m.\u001b[39;00m\u001b[38;5;21;01mcore\u001b[39;00m\u001b[38;5;21;01m.\u001b[39;00m\u001b[38;5;21;01mgroupby\u001b[39;00m\u001b[38;5;21;01m.\u001b[39;00m\u001b[38;5;21;01mgrouper\u001b[39;00m \u001b[38;5;28;01mimport\u001b[39;00m get_grouper\n\u001b[1;32m--> 965\u001b[0m     grouper, exclusions, obj \u001b[38;5;241m=\u001b[39m get_grouper(\n\u001b[0;32m    966\u001b[0m         obj,\n\u001b[0;32m    967\u001b[0m         keys,\n\u001b[0;32m    968\u001b[0m         axis\u001b[38;5;241m=\u001b[39maxis,\n\u001b[0;32m    969\u001b[0m         level\u001b[38;5;241m=\u001b[39mlevel,\n\u001b[0;32m    970\u001b[0m         sort\u001b[38;5;241m=\u001b[39msort,\n\u001b[0;32m    971\u001b[0m         observed\u001b[38;5;241m=\u001b[39mobserved,\n\u001b[0;32m    972\u001b[0m         mutated\u001b[38;5;241m=\u001b[39m\u001b[38;5;28mself\u001b[39m\u001b[38;5;241m.\u001b[39mmutated,\n\u001b[0;32m    973\u001b[0m         dropna\u001b[38;5;241m=\u001b[39m\u001b[38;5;28mself\u001b[39m\u001b[38;5;241m.\u001b[39mdropna,\n\u001b[0;32m    974\u001b[0m     )\n\u001b[0;32m    976\u001b[0m \u001b[38;5;28mself\u001b[39m\u001b[38;5;241m.\u001b[39mobj \u001b[38;5;241m=\u001b[39m obj\n\u001b[0;32m    977\u001b[0m \u001b[38;5;28mself\u001b[39m\u001b[38;5;241m.\u001b[39maxis \u001b[38;5;241m=\u001b[39m obj\u001b[38;5;241m.\u001b[39m_get_axis_number(axis)\n",
      "File \u001b[1;32m~\\anaconda3\\Lib\\site-packages\\pandas\\core\\groupby\\grouper.py:888\u001b[0m, in \u001b[0;36mget_grouper\u001b[1;34m(obj, key, axis, level, sort, observed, mutated, validate, dropna)\u001b[0m\n\u001b[0;32m    886\u001b[0m         in_axis, level, gpr \u001b[38;5;241m=\u001b[39m \u001b[38;5;28;01mFalse\u001b[39;00m, gpr, \u001b[38;5;28;01mNone\u001b[39;00m\n\u001b[0;32m    887\u001b[0m     \u001b[38;5;28;01melse\u001b[39;00m:\n\u001b[1;32m--> 888\u001b[0m         \u001b[38;5;28;01mraise\u001b[39;00m \u001b[38;5;167;01mKeyError\u001b[39;00m(gpr)\n\u001b[0;32m    889\u001b[0m \u001b[38;5;28;01melif\u001b[39;00m \u001b[38;5;28misinstance\u001b[39m(gpr, Grouper) \u001b[38;5;129;01mand\u001b[39;00m gpr\u001b[38;5;241m.\u001b[39mkey \u001b[38;5;129;01mis\u001b[39;00m \u001b[38;5;129;01mnot\u001b[39;00m \u001b[38;5;28;01mNone\u001b[39;00m:\n\u001b[0;32m    890\u001b[0m     \u001b[38;5;66;03m# Add key to exclusions\u001b[39;00m\n\u001b[0;32m    891\u001b[0m     exclusions\u001b[38;5;241m.\u001b[39madd(gpr\u001b[38;5;241m.\u001b[39mkey)\n",
      "\u001b[1;31mKeyError\u001b[0m: 'month_first'"
     ]
    }
   ],
   "source": [
    "data1=df[df['verification_status']=='Verified'].groupby('month_first')['zip_code'].agg(count='count').reset_index().sort_values(by='month_first')\n",
    "data2=df[df['verification_status']=='Not Verified'].groupby('month_first')['zip_code'].agg(count='count').reset_index().sort_values(by='month_first')\n",
    "data3=df[df['verification_status']=='Source Verified'].groupby('month_first')['zip_code'].agg(count='count').reset_index().sort_values(by='month_first')"
   ]
  },
  {
   "cell_type": "code",
   "execution_count": null,
   "id": "7da1d851-f920-4699-8b39-bd8722e10946",
   "metadata": {
    "tags": []
   },
   "outputs": [],
   "source": [
    "data3.head(12)"
   ]
  },
  {
   "cell_type": "code",
   "execution_count": null,
   "id": "feb99298-4090-4d72-9e6e-1fe7c7f8631f",
   "metadata": {
    "tags": []
   },
   "outputs": [],
   "source": [
    "gs = gridspec.GridSpec(1, 3)\n",
    "\n",
    "pl.figure(figsize=(25,6))\n",
    "ax = pl.subplot(gs[0, 0]) # row 0, col 0\n",
    "ax.plot(data1['month_first'], data1['count'])\n",
    "ax.set_title('month vs number_of first loan for verified income')\n",
    "ax.set_xlabel('month_first')\n",
    "ax.set_ylabel('number 0f loans for verified income')\n",
    "\n",
    "ax = pl.subplot(gs[0, 1]) # row 0, col 1\n",
    "ax.plot(data2['month_first'], data2['count'])\n",
    "ax.set_title('month vs number_of first loan for not verified income')\n",
    "ax.set_xlabel('month_first')\n",
    "ax.set_ylabel('number 0f loans for not verified income')\n",
    "\n",
    "ax = pl.subplot(gs[0, 2]) # row 1, span all columns\n",
    "ax.plot(data3['month_first'], data3['count'])\n",
    "ax.set_title('month vs number_of first loan for source verified income')\n",
    "ax.set_xlabel('month_first')\n",
    "ax.set_ylabel('number 0f loans for source verified income')\n",
    "\n",
    "plt.show()"
   ]
  },
  {
   "cell_type": "code",
   "execution_count": null,
   "id": "f869b74c-24db-4a15-9ab4-22f445efa979",
   "metadata": {
    "tags": []
   },
   "outputs": [],
   "source": [
    "plt.figure(figsize=(25,6))\n",
    "plt.plot(data1['month_first'], data1['count'], label='verified')\n",
    "plt.plot(data2['month_first'], data2['count'], label='not verified')\n",
    "plt.plot(data3['month_first'], data3['count'], label='source verified')\n",
    "plt.title('month vs number_of first loan with different kind of income verifications')\n",
    "plt.xlabel('month')\n",
    "plt.ylabel('number of first loans')\n",
    "plt.legend()\n",
    "plt.show()"
   ]
  },
  {
   "cell_type": "code",
   "execution_count": null,
   "id": "e100181e-1a78-4ee2-8a16-219bce0b7011",
   "metadata": {
    "tags": []
   },
   "outputs": [],
   "source": [
    "zero_data_emp=df['emp_length'].isnull().sum()\n",
    "zero_data_emp"
   ]
  },
  {
   "cell_type": "code",
   "execution_count": null,
   "id": "2a640f3e-1bce-497c-9b10-7f3296a23ae8",
   "metadata": {
    "tags": []
   },
   "outputs": [],
   "source": [
    "unique_values=df['emp_length'].value_counts().reset_index().sort_values(by='emp_length')\n",
    "unique_values\n",
    "# unique_values=df.groupby('emp_length')['verification_status'].agg(count='Count').reset_index().sort_values('emp_length')"
   ]
  },
  {
   "cell_type": "code",
   "execution_count": null,
   "id": "5f1d4027-7988-43a4-9c95-bdd22fa8c5e3",
   "metadata": {
    "tags": []
   },
   "outputs": [],
   "source": [
    "df['emp_length'].replace(['4 years', '10+ years', '3 years', '< 1 year', '5 years', '1 year',\n",
    "       '7 years', '8 years', '2 years', '9 years', '6 years', np.nan], [4, 10,3,0.5,5,1,\n",
    "       7,8,2,9, 6,10], inplace=True)\n",
    "df['emp_length']"
   ]
  },
  {
   "cell_type": "code",
   "execution_count": null,
   "id": "d7a24b82-4e73-4998-8523-9dae25f77e1e",
   "metadata": {
    "tags": []
   },
   "outputs": [],
   "source": [
    "zero_data_emp=df['emp_length'].isnull().sum()\n",
    "zero_data_emp"
   ]
  },
  {
   "cell_type": "code",
   "execution_count": null,
   "id": "87ae83b1-1f30-459a-9e2e-42e712431347",
   "metadata": {
    "tags": []
   },
   "outputs": [],
   "source": [
    "plt.figure(figsize=(10,6))\n",
    "plt.hist(df['emp_length'], bins=10)\n",
    "plt.title('employment lenght')\n",
    "plt.xlabel('number of years')\n",
    "plt.ylabel('count')\n",
    "plt.show()"
   ]
  },
  {
   "cell_type": "code",
   "execution_count": null,
   "id": "f88e6bd3-cfda-4062-af06-844ece1a1277",
   "metadata": {
    "tags": []
   },
   "outputs": [],
   "source": [
    "plt.figure(figsize=(10,6))\n",
    "plt.hist(df['emp_length'][df['loan_status']==0], alpha=0.5, label='0')\n",
    "plt.hist(df['emp_length'][df['loan_status']==1], alpha=0.5, label='1')\n",
    "plt.title('employment lenght vs loan status')\n",
    "plt.xlabel('number of years')\n",
    "plt.ylabel('count')\n",
    "plt.legend()\n",
    "plt.show()"
   ]
  },
  {
   "cell_type": "code",
   "execution_count": null,
   "id": "f101aa43-0326-411e-bdbd-6c2b1749d884",
   "metadata": {
    "tags": []
   },
   "outputs": [],
   "source": [
    "data_new=df.groupby('emp_length')['loan_status'].sum().reset_index()\n",
    "data_new.head()                                               "
   ]
  },
  {
   "cell_type": "code",
   "execution_count": null,
   "id": "3496b50c-705a-4cc1-b293-fbb66fe401c3",
   "metadata": {
    "tags": []
   },
   "outputs": [],
   "source": [
    "plt.figure(figsize=(10,6))\n",
    "plt.scatter(data_new['emp_length'], data_new['loan_status'])\n",
    "plt.title('number of bad loans vs number of employment length')\n",
    "plt.xlabel('number of years of employment length')\n",
    "plt.ylabel('count')\n",
    "plt.show()"
   ]
  },
  {
   "cell_type": "code",
   "execution_count": null,
   "id": "322ce4bd-4ded-4a61-b9e1-5f41bfe19395",
   "metadata": {
    "tags": []
   },
   "outputs": [],
   "source": [
    "df.columns"
   ]
  },
  {
   "cell_type": "code",
   "execution_count": null,
   "id": "cf1bc8ef-af2d-4114-acf4-8095de072794",
   "metadata": {
    "tags": []
   },
   "outputs": [],
   "source": [
    "df['int_rate']"
   ]
  },
  {
   "cell_type": "code",
   "execution_count": null,
   "id": "7307f317-c662-4f4f-9731-753041c1d6d8",
   "metadata": {
    "tags": []
   },
   "outputs": [],
   "source": [
    "df['int_rate']=df['int_rate'].str.replace('%', '').astype(float)"
   ]
  },
  {
   "cell_type": "code",
   "execution_count": null,
   "id": "caf5b5cf-bc78-44d4-b673-05f3d4e117e4",
   "metadata": {
    "tags": []
   },
   "outputs": [],
   "source": [
    "df['int_rate']"
   ]
  },
  {
   "cell_type": "code",
   "execution_count": null,
   "id": "f63f1fd7-2228-4042-a391-7740f1f41cc1",
   "metadata": {
    "tags": []
   },
   "outputs": [],
   "source": [
    "df['revol_util']=df['revol_util'].str.replace('%', '').astype(float)"
   ]
  },
  {
   "cell_type": "code",
   "execution_count": null,
   "id": "d3f87a92-6f27-42a6-adfc-7a3729eefe37",
   "metadata": {
    "tags": []
   },
   "outputs": [],
   "source": [
    "df['revol_util']"
   ]
  },
  {
   "cell_type": "code",
   "execution_count": null,
   "id": "6fecd519-2182-4712-b64a-0b229ba34c24",
   "metadata": {
    "tags": []
   },
   "outputs": [],
   "source": [
    "data1=df['int_rate'][df['loan_status']==1]\n",
    "data2=df['int_rate'][df['loan_status']==0]"
   ]
  },
  {
   "cell_type": "code",
   "execution_count": null,
   "id": "e9b87654-b794-40e5-a15e-60f48d9ebcba",
   "metadata": {
    "tags": []
   },
   "outputs": [],
   "source": [
    "plt.figure(figsize=(10,6))\n",
    "plt.boxplot([data1, data2])\n",
    "plt.title('number of bad loans vs interest_rate')\n",
    "plt.xlabel('bad or good loans')\n",
    "plt.ylabel('interest rate')\n",
    "plt.xticks([1,2], ['bad loans', 'good loans'])\n",
    "plt.show()"
   ]
  },
  {
   "cell_type": "code",
   "execution_count": null,
   "id": "967c6472-79f6-4bba-a5d7-12220f387ebf",
   "metadata": {
    "tags": []
   },
   "outputs": [],
   "source": [
    "data_d=df['purpose'].value_counts().reset_index()\n",
    "data_d"
   ]
  },
  {
   "cell_type": "code",
   "execution_count": null,
   "id": "2572a78c-a1d5-4b5d-90ef-93bf2d37ff4d",
   "metadata": {
    "tags": []
   },
   "outputs": [],
   "source": [
    "plt.figure(figsize=(10,6))\n",
    "plt.bar(data_d['index'], data_d['purpose'])\n",
    "plt.title('Для чего брали кредит')\n",
    "plt.xlabel('цель кредита')\n",
    "plt.ylabel('количество аналогичных обращений')\n",
    "plt.xticks(rotation=90)\n",
    "plt.show()"
   ]
  },
  {
   "cell_type": "code",
   "execution_count": null,
   "id": "9512fa39-ef83-44cb-add1-fe972afe1040",
   "metadata": {
    "tags": []
   },
   "outputs": [],
   "source": [
    "data=pd.crosstab(df['purpose'], df['loan_status']).reset_index().sort_values(by=1)\n",
    "data"
   ]
  },
  {
   "cell_type": "code",
   "execution_count": null,
   "id": "e07d7236-5d83-4726-8f17-b2c9a9f96fdf",
   "metadata": {
    "tags": []
   },
   "outputs": [],
   "source": [
    "data=pd.crosstab(df['addr_state'], df['loan_status'], normalize='index').reset_index().sort_values(by=1)\n",
    "data"
   ]
  },
  {
   "cell_type": "code",
   "execution_count": null,
   "id": "edadd07f-849c-43a2-ac26-cd48ac7e12cc",
   "metadata": {
    "tags": []
   },
   "outputs": [],
   "source": [
    "plt.figure(figsize=(10,10))\n",
    "\n",
    "n_ticks=np.arange(len(data[0]))\n",
    "offset=0.2\n",
    "w=0.4\n",
    "plt.bar(n_ticks-offset, data[0], width=w, label='0')\n",
    "plt.bar(n_ticks+offset, data[1], width=w, label='1')\n",
    "plt.title('Сравнение возврата кредита в зависимости от цели кредита')\n",
    "plt.xlabel('цель кредита')\n",
    "plt.ylabel('количество аналогичных случаев')\n",
    "plt.legend()\n",
    "plt.xticks(n_ticks, data['purpose'], rotation=90)\n",
    "plt.show()"
   ]
  },
  {
   "cell_type": "code",
   "execution_count": null,
   "id": "f71ba40d-af29-47de-91bb-000c4ce95a2f",
   "metadata": {
    "tags": []
   },
   "outputs": [],
   "source": [
    "plt.figure(figsize=(10,10))\n",
    "plt.bar(data['purpose'], data[0], label='0')\n",
    "plt.bar(data['purpose'], data[1], bottom=data[0], label='1')\n",
    "plt.title('Сравнение возврата кредита в зависимости от цели кредита')\n",
    "plt.xlabel('цель кредита')\n",
    "plt.ylabel('количество аналогичных случаев')\n",
    "plt.legend()\n",
    "plt.xticks(rotation=90)\n",
    "plt.show()"
   ]
  },
  {
   "cell_type": "code",
   "execution_count": null,
   "id": "5d850666-8b67-4d58-a83b-ca2726f4e321",
   "metadata": {
    "tags": []
   },
   "outputs": [],
   "source": [
    "data=pd.crosstab(df['purpose'], df['loan_status'], normalize='index').reset_index().sort_values(by=1)\n",
    "data"
   ]
  },
  {
   "cell_type": "code",
   "execution_count": null,
   "id": "2f65a946-2697-43eb-b629-fcb701f1d2f6",
   "metadata": {
    "tags": []
   },
   "outputs": [],
   "source": [
    "plt.figure(figsize=(10,10))\n",
    "plt.bar(data['purpose'], data[0], label='0')\n",
    "plt.bar(data['purpose'], data[1], bottom=data[0], label='1')\n",
    "plt.title('Сравнение возврата кредита в зависимости от цели кредита')\n",
    "plt.xlabel('цель кредита')\n",
    "plt.ylabel('количество аналогичных случаев')\n",
    "plt.legend()\n",
    "plt.xticks(rotation=90)\n",
    "plt.show()"
   ]
  },
  {
   "cell_type": "code",
   "execution_count": null,
   "id": "5e28b6f7-fb96-4f07-8ee6-3f384c414598",
   "metadata": {
    "tags": []
   },
   "outputs": [],
   "source": [
    "data_else=pd.crosstab(df['emp_length'], df['loan_status'], normalize='index').reset_index().sort_values(by=1)\n",
    "data_else"
   ]
  },
  {
   "cell_type": "code",
   "execution_count": null,
   "id": "87b9491c-93ff-4c82-9857-35423ffabbbf",
   "metadata": {
    "tags": []
   },
   "outputs": [],
   "source": [
    "plt.figure(figsize=(12,10))\n",
    "plt.bar(data_else['emp_length'], data_else[0], label='0')\n",
    "plt.bar(data_else['emp_length'], data_else[1], bottom=data_else[0], label='1')\n",
    "plt.title('Сравнение возврата кредита в зависимости от стажа указанного при заявке')\n",
    "plt.xlabel('стаж')\n",
    "plt.ylabel('количество аналогичных случаев')\n",
    "plt.legend()\n",
    "plt.xticks()\n",
    "plt.show()"
   ]
  },
  {
   "cell_type": "code",
   "execution_count": null,
   "id": "4957b75a-9d12-4831-98bf-35ac82a4b718",
   "metadata": {},
   "outputs": [],
   "source": [
    "data=pd.crosstab(df['addr_state'], df['loan_status'], normalize='index').reset_index().sort_values(by=1)\n",
    "data"
   ]
  },
  {
   "cell_type": "code",
   "execution_count": 3,
   "id": "d2f92b6d-ea58-4de8-9408-0fbccd28b36a",
   "metadata": {
    "tags": []
   },
   "outputs": [
    {
     "ename": "NameError",
     "evalue": "name 'df' is not defined",
     "output_type": "error",
     "traceback": [
      "\u001b[1;31m---------------------------------------------------------------------------\u001b[0m",
      "\u001b[1;31mNameError\u001b[0m                                 Traceback (most recent call last)",
      "Cell \u001b[1;32mIn[3], line 1\u001b[0m\n\u001b[1;32m----> 1\u001b[0m data_33\u001b[38;5;241m=\u001b[39mpd\u001b[38;5;241m.\u001b[39mcrosstab(df[\u001b[38;5;124m'\u001b[39m\u001b[38;5;124mverification_status\u001b[39m\u001b[38;5;124m'\u001b[39m], df[\u001b[38;5;124m'\u001b[39m\u001b[38;5;124mloan_status\u001b[39m\u001b[38;5;124m'\u001b[39m], normalize\u001b[38;5;241m=\u001b[39m\u001b[38;5;124m'\u001b[39m\u001b[38;5;124mindex\u001b[39m\u001b[38;5;124m'\u001b[39m)\u001b[38;5;241m.\u001b[39mreset_index()\u001b[38;5;241m.\u001b[39msort_values(by\u001b[38;5;241m=\u001b[39m\u001b[38;5;241m1\u001b[39m)\n\u001b[0;32m      2\u001b[0m data_33\n",
      "\u001b[1;31mNameError\u001b[0m: name 'df' is not defined"
     ]
    }
   ],
   "source": [
    "data_33=pd.crosstab(df['verification_status'], df['loan_status'], normalize='index').reset_index().sort_values(by=1)\n",
    "data_33"
   ]
  },
  {
   "cell_type": "code",
   "execution_count": null,
   "id": "e7cc4894-30f9-4203-8914-cc102180f65d",
   "metadata": {
    "tags": []
   },
   "outputs": [],
   "source": [
    "plt.figure(figsize=(12,10))\n",
    "plt.bar(data_33['verification_status'], data_33[0], label='0')\n",
    "plt.bar(data_33['verification_status'], data_33[1], bottom=data_33[0], label='1')\n",
    "plt.title('Сравнение возврата кредита в зависимости от подтверждения дохода')\n",
    "plt.xlabel('вид подтверждения')\n",
    "plt.ylabel('количество аналогичных случаев')\n",
    "plt.legend()\n",
    "plt.xticks()\n",
    "plt.show()"
   ]
  },
  {
   "cell_type": "code",
   "execution_count": null,
   "id": "11c27b15-aa3e-4961-8075-98ad15b47ae1",
   "metadata": {
    "tags": []
   },
   "outputs": [],
   "source": [
    "data=df['loan_status'].value_counts()\n",
    "data"
   ]
  },
  {
   "cell_type": "code",
   "execution_count": null,
   "id": "4dd9f93d-a648-420c-8142-e72af1761061",
   "metadata": {
    "tags": []
   },
   "outputs": [],
   "source": [
    "plt.figure(figsize=(10,10))\n",
    "plt.pie(data, autopct='%1.1f%%')\n",
    "plt.title('Общая доля невозвращаемых кредитов')\n",
    "plt.legend(data.index)\n",
    "plt.show()"
   ]
  },
  {
   "cell_type": "code",
   "execution_count": null,
   "id": "eb22005e-1083-46d5-bfb9-acd1878b545b",
   "metadata": {
    "tags": []
   },
   "outputs": [],
   "source": [
    "plt.figure(figsize=(10,6))\n",
    "\n",
    "plt.subplot(121)\n",
    "plt.hist(df['loan_status'], bins=10)\n",
    "plt.xlabel('категории')\n",
    "plt.ylabel('quantity')\n",
    "\n",
    "plt.subplot(122)\n",
    "sns.kdeplot(df['loan_status'], fill=True)\n",
    "plt.xlabel('категории')\n",
    "plt.ylabel('quantity')\n",
    "\n",
    "plt.suptitle ('Распределение целевого признака по категориям')\n",
    "plt.show()"
   ]
  },
  {
   "cell_type": "code",
   "execution_count": null,
   "id": "bd49fb2e-b097-41f2-85a5-62953dcecc08",
   "metadata": {
    "tags": []
   },
   "outputs": [],
   "source": [
    "target_mean=round(df['loan_status'].mean(),2)\n",
    "target_median=df['loan_status'].median()\n",
    "target_mode=df['loan_status'].mode()[0]\n",
    "print(target_mean)\n",
    "print(target_median)\n",
    "print(target_mode)"
   ]
  },
  {
   "cell_type": "markdown",
   "id": "b8ff3ab5-8502-4f3a-a613-c6b5fe1bb3dd",
   "metadata": {},
   "source": [
    "##### Анализ Количественных непрерывных данных"
   ]
  },
  {
   "cell_type": "code",
   "execution_count": null,
   "id": "f3588afe-ddbc-4c10-9100-63dfe9fb4e57",
   "metadata": {
    "tags": []
   },
   "outputs": [],
   "source": [
    "df_num_unlim=df[['annual_inc','dti','funded_amnt','installment','int_rate','loan_amnt','percent_bc_gt_75','revol_util']]\n",
    "df_num_unlim.head()"
   ]
  },
  {
   "cell_type": "code",
   "execution_count": null,
   "id": "4c9c7366-3cc9-46e5-a055-cd661ce4e55e",
   "metadata": {
    "tags": []
   },
   "outputs": [],
   "source": [
    "df_num_unlim.hist(figsize=(16,16), bins=20, grid=False)"
   ]
  },
  {
   "cell_type": "code",
   "execution_count": null,
   "id": "18fb8e9e-1ac6-438a-ab65-49a828a8a79b",
   "metadata": {
    "tags": []
   },
   "outputs": [],
   "source": [
    "df['annual_inc'].head()"
   ]
  },
  {
   "cell_type": "code",
   "execution_count": null,
   "id": "50f29d84-6c17-4ef9-8574-d62ace4e9932",
   "metadata": {
    "tags": []
   },
   "outputs": [],
   "source": [
    "plt.figure(figsize=(10,6))\n",
    "plt.boxplot(df['annual_inc'], showfliers=False)\n",
    "plt.title('range of income')\n",
    "plt.xlabel('amount')\n",
    "plt.ylabel('count')\n",
    "plt.show()"
   ]
  },
  {
   "cell_type": "code",
   "execution_count": null,
   "id": "26f45878-ad77-4e6b-91fd-678ec62c0d0f",
   "metadata": {
    "tags": []
   },
   "outputs": [],
   "source": [
    "df.loc[df['annual_inc']>160000, 'annual_inc']=df['annual_inc'].median()"
   ]
  },
  {
   "cell_type": "code",
   "execution_count": null,
   "id": "b91457b5-2312-4557-b10d-bd9bde77b0ed",
   "metadata": {
    "tags": []
   },
   "outputs": [],
   "source": [
    "plt.figure(figsize=(10,6))\n",
    "plt.boxplot(df['annual_inc'])\n",
    "plt.title('range of income')\n",
    "plt.xlabel('amount')\n",
    "plt.ylabel('count')\n",
    "plt.show()"
   ]
  },
  {
   "cell_type": "code",
   "execution_count": null,
   "id": "0134b840-eb64-4989-8fef-3b0225fc34a5",
   "metadata": {
    "tags": []
   },
   "outputs": [],
   "source": [
    "df_num_unlim=df[['annual_inc','dti','funded_amnt','installment','int_rate','loan_amnt','percent_bc_gt_75','revol_util']]\n",
    "df_num_unlim.hist(figsize=(16,16), bins=20, grid=False)"
   ]
  },
  {
   "cell_type": "code",
   "execution_count": null,
   "id": "f7e4c3f1-6b2c-4dea-a45b-d234792ed015",
   "metadata": {
    "tags": []
   },
   "outputs": [],
   "source": [
    "plt.figure(figsize=(10,6))\n",
    "sns.boxplot(df['revol_util'],whis=1.5,showfliers=False)\n",
    "plt.title('коэффициент использования возобновляемой кредитной линии')\n",
    "plt.xlabel('amount')\n",
    "plt.ylabel('count')\n",
    "plt.show()"
   ]
  },
  {
   "cell_type": "code",
   "execution_count": null,
   "id": "d65b9dbb-cde3-44fd-b6dd-3c6ad1bbf682",
   "metadata": {
    "tags": []
   },
   "outputs": [],
   "source": [
    "df.loc[df['revol_util']>100, 'revol_util']=df['revol_util'].median()"
   ]
  },
  {
   "cell_type": "code",
   "execution_count": null,
   "id": "ad1edcb6-f0fc-4a5a-80b2-19b7dd3bfc2a",
   "metadata": {
    "tags": []
   },
   "outputs": [],
   "source": [
    "plt.figure(figsize=(10,6))\n",
    "sns.boxplot(df['dti'],whis=1.5)\n",
    "plt.title('коэффициент использования возобновляемой кредитной линии')\n",
    "plt.xlabel('amount')\n",
    "plt.ylabel('count')\n",
    "plt.show()"
   ]
  },
  {
   "cell_type": "code",
   "execution_count": null,
   "id": "0b3f562f-db3c-47e6-a9cb-a7512ad2e6a3",
   "metadata": {
    "tags": []
   },
   "outputs": [],
   "source": [
    "plt.figure(figsize=(10,6))\n",
    "sns.boxplot(df['int_rate'],whis=1.5)\n",
    "plt.title('ставки по кредитам')\n",
    "plt.xlabel('размер')\n",
    "plt.ylabel('количество')\n",
    "plt.show()"
   ]
  },
  {
   "cell_type": "code",
   "execution_count": null,
   "id": "16069459-f705-4be8-af07-52242c2feac6",
   "metadata": {
    "tags": []
   },
   "outputs": [],
   "source": [
    "# df.loc[df['int_rate']>25, 'int_rate']=df['int_rate'].median()"
   ]
  },
  {
   "cell_type": "code",
   "execution_count": null,
   "id": "e46d003e-237c-4292-b55e-550794e03890",
   "metadata": {
    "tags": []
   },
   "outputs": [],
   "source": [
    "# plt.figure(figsize=(10,6))\n",
    "# sns.boxplot(df['int_rate'],whis=1.5)\n",
    "# plt.title('ставки по кредитам')\n",
    "# plt.xlabel('размер')\n",
    "# plt.ylabel('количество')\n",
    "# plt.show()"
   ]
  },
  {
   "cell_type": "code",
   "execution_count": null,
   "id": "96e4409b-ab58-4c22-952a-8b6f9beb78dd",
   "metadata": {
    "tags": []
   },
   "outputs": [],
   "source": [
    "df_num_unlim=df[['annual_inc','dti','funded_amnt','installment','int_rate','loan_amnt','percent_bc_gt_75','revol_util']]\n",
    "df_num_unlim.hist(figsize=(16,16), bins=20, grid=False)"
   ]
  },
  {
   "cell_type": "code",
   "execution_count": null,
   "id": "059b0e92-ff58-4314-88b8-4ced15551e90",
   "metadata": {
    "tags": []
   },
   "outputs": [],
   "source": [
    "df_num_unlim.head()\n",
    "# compare_date=df[['annual_inc', 'installment']]\n",
    "# compare_date.head()"
   ]
  },
  {
   "cell_type": "code",
   "execution_count": null,
   "id": "4005d377-9bec-47d1-bd8c-b6996397064d",
   "metadata": {
    "tags": []
   },
   "outputs": [],
   "source": [
    "# df_num_unlim.head()\n",
    "# # compare_date=df[['annual_inc', 'installment']]\n",
    "# # compare_date.head()\n",
    "\n",
    "# # plt.figure(figsize=(15, 10))\n",
    "# # ax = sns.regplot(x='annual_inc', y='installment', data=compare_date, color='green', marker='+', scatter_kws={\"color\": \"green\"}, line_kws={\"color\": \"red\"})\n",
    "# # sns.set(font_scale=2.0)\n",
    "# # sns.set_style('whitegrid')\n",
    "# # ax.set(xlabel='показатель Х', ylabel='показатель Y')\n",
    "# # ax.set_title('Зависимость двух показателей')\n",
    "# # plt.show()"
   ]
  },
  {
   "cell_type": "code",
   "execution_count": null,
   "id": "5a53b684-a0aa-45ce-a562-951b2476a899",
   "metadata": {
    "tags": []
   },
   "outputs": [],
   "source": [
    "df_num_lim=df[['acc_now_delinq','chargeoff_within_12_mths','collections_12_mths_ex_med','delinq_2yrs',\n",
    "             'fico_range_high','fico_range_low','inq_last_12m','mort_acc','mths_since_last_delinq',\n",
    "             'mths_since_recent_bc_dlq','mths_since_recent_inq','num_accts_ever_120_pd','num_actv_bc_tl',\n",
    "             'num_rev_accts','num_sats','num_tl_120dpd_2m','num_tl_30dpd','num_tl_90g_dpd_24m','num_tl_op_past_12m',\n",
    "             'open_acc','open_il_24m','open_rv_24m','pub_rec','pub_rec_bankruptcies', 'tax_liens','total_acc']]\n",
    "df_num_lim.head()"
   ]
  },
  {
   "cell_type": "code",
   "execution_count": null,
   "id": "48ef5861-1b3c-446c-9155-f96309f7b3ca",
   "metadata": {
    "tags": []
   },
   "outputs": [],
   "source": [
    "plt.figure(figsize=(25,25))\n",
    "\n",
    "sns.set(font_scale=1)\n",
    "\n",
    "corr_matrix=df_num_lim.corr()\n",
    "corr_matrix=np.round(corr_matrix,2)\n",
    "corr_matrix[np.abs(corr_matrix)<0.4]=0\n",
    "\n",
    "sns.heatmap(corr_matrix, annot=True, linewidths=.5, cmap='coolwarm')\n",
    "\n",
    "plt.title('Correlation')\n",
    "plt.show()"
   ]
  },
  {
   "cell_type": "code",
   "execution_count": null,
   "id": "cb120789-46f1-4338-8ea0-f36badf14944",
   "metadata": {},
   "outputs": [],
   "source": [
    "df.columns"
   ]
  },
  {
   "cell_type": "code",
   "execution_count": null,
   "id": "b83f345f-44fc-4b15-9934-39f40f1553dd",
   "metadata": {
    "tags": []
   },
   "outputs": [],
   "source": [
    "df['fico_mean']=(df['fico_range_high']+df['fico_range_low'])/2\n",
    "df.drop(['fico_range_high','fico_range_low'], axis=1,inplace=True)\n",
    "df.head()"
   ]
  },
  {
   "cell_type": "code",
   "execution_count": null,
   "id": "766ea13a-3826-4a76-b18f-ee76c65dbe30",
   "metadata": {
    "tags": []
   },
   "outputs": [],
   "source": [
    "df_num_lim=df[['acc_now_delinq','chargeoff_within_12_mths','collections_12_mths_ex_med','delinq_2yrs',\n",
    "             'inq_last_12m','mort_acc','mths_since_last_delinq',\n",
    "             'mths_since_recent_bc_dlq','mths_since_recent_inq','num_accts_ever_120_pd','num_actv_bc_tl',\n",
    "             'num_rev_accts','num_sats','num_tl_120dpd_2m','num_tl_30dpd','num_tl_90g_dpd_24m','num_tl_op_past_12m',\n",
    "             'open_acc','open_il_24m','open_rv_24m','pub_rec','pub_rec_bankruptcies', 'tax_liens','total_acc','fico_mean']]\n",
    "df_num_lim.head()"
   ]
  },
  {
   "cell_type": "code",
   "execution_count": null,
   "id": "14dea699-7797-483c-83c8-be5eee864521",
   "metadata": {
    "tags": []
   },
   "outputs": [],
   "source": [
    "plt.figure(figsize=(25,25))\n",
    "\n",
    "sns.set(font_scale=1)\n",
    "\n",
    "corr_matrix=df_num_lim.corr()\n",
    "corr_matrix=np.round(corr_matrix,2)\n",
    "corr_matrix[np.abs(corr_matrix)<0.4]=0\n",
    "\n",
    "sns.heatmap(corr_matrix, annot=True, linewidths=.5, cmap='coolwarm')\n",
    "\n",
    "plt.title('Correlation')\n",
    "plt.show()"
   ]
  },
  {
   "cell_type": "code",
   "execution_count": null,
   "id": "db830e49-3c44-43de-959f-2ba34b1439e8",
   "metadata": {
    "tags": []
   },
   "outputs": [],
   "source": [
    "df.drop(['num_sats'], axis=1,inplace=True)"
   ]
  },
  {
   "cell_type": "code",
   "execution_count": null,
   "id": "cb12e01a-3b20-4093-b989-71274375108f",
   "metadata": {
    "tags": []
   },
   "outputs": [],
   "source": [
    "df_num_lim=df[['acc_now_delinq','chargeoff_within_12_mths','collections_12_mths_ex_med','delinq_2yrs',\n",
    "             'inq_last_12m','mort_acc','mths_since_last_delinq',\n",
    "             'mths_since_recent_bc_dlq','mths_since_recent_inq','num_accts_ever_120_pd','num_actv_bc_tl',\n",
    "             'num_rev_accts','num_tl_120dpd_2m','num_tl_30dpd','num_tl_90g_dpd_24m','num_tl_op_past_12m',\n",
    "             'open_acc','open_il_24m','open_rv_24m','pub_rec','pub_rec_bankruptcies', 'tax_liens','total_acc','fico_mean']]\n",
    "df_num_lim.head()"
   ]
  },
  {
   "cell_type": "code",
   "execution_count": null,
   "id": "0605d8f9-f562-43ff-a571-559a0f69b18e",
   "metadata": {
    "tags": []
   },
   "outputs": [],
   "source": [
    "plt.figure(figsize=(25,25))\n",
    "\n",
    "sns.set(font_scale=1)\n",
    "\n",
    "corr_matrix=df_num_lim.corr()\n",
    "corr_matrix=np.round(corr_matrix,2)\n",
    "corr_matrix[np.abs(corr_matrix)<0.4]=0\n",
    "\n",
    "sns.heatmap(corr_matrix, annot=True, linewidths=.5, cmap='coolwarm')\n",
    "\n",
    "plt.title('Correlation')\n",
    "plt.show()"
   ]
  },
  {
   "cell_type": "code",
   "execution_count": null,
   "id": "34eccdce-a829-42fd-8112-a4ec9800e01e",
   "metadata": {
    "tags": []
   },
   "outputs": [],
   "source": [
    "df['share_of_open_acc']=df['open_acc']/df['total_acc']\n",
    "df.drop(['open_acc','total_acc'], axis=1,inplace=True)\n",
    "df.head()"
   ]
  },
  {
   "cell_type": "code",
   "execution_count": null,
   "id": "898320a4-7092-44d7-bbc8-effb1e752d30",
   "metadata": {
    "tags": []
   },
   "outputs": [],
   "source": [
    "df_num_lim=df[['acc_now_delinq','chargeoff_within_12_mths','collections_12_mths_ex_med','delinq_2yrs',\n",
    "             'inq_last_12m','mort_acc','mths_since_last_delinq',\n",
    "             'mths_since_recent_bc_dlq','mths_since_recent_inq','num_accts_ever_120_pd','num_actv_bc_tl',\n",
    "             'num_rev_accts','num_tl_120dpd_2m','num_tl_30dpd','num_tl_90g_dpd_24m','num_tl_op_past_12m',\n",
    "               'open_il_24m','open_rv_24m','pub_rec','pub_rec_bankruptcies', 'tax_liens','fico_mean','share_of_open_acc']]\n",
    "df_num_lim.head()"
   ]
  },
  {
   "cell_type": "code",
   "execution_count": null,
   "id": "63303453-b19f-4f6c-8f7c-f73926c24e3e",
   "metadata": {
    "tags": []
   },
   "outputs": [],
   "source": [
    "plt.figure(figsize=(25,25))\n",
    "\n",
    "sns.set(font_scale=1)\n",
    "\n",
    "corr_matrix=df_num_lim.corr()\n",
    "corr_matrix=np.round(corr_matrix,2)\n",
    "corr_matrix[np.abs(corr_matrix)<0.4]=0\n",
    "\n",
    "sns.heatmap(corr_matrix, annot=True, linewidths=.5, cmap='coolwarm')\n",
    "\n",
    "plt.title('Correlation')\n",
    "plt.show()"
   ]
  },
  {
   "cell_type": "code",
   "execution_count": null,
   "id": "ff432f61-121b-4b71-a902-a7482caf7367",
   "metadata": {
    "tags": []
   },
   "outputs": [],
   "source": [
    "df.drop(['acc_now_delinq','addr_state', 'title', 'zip_code', 'earliest_cr_line', 'issue_d'], axis=1, inplace=True)\n",
    "df.head()"
   ]
  },
  {
   "cell_type": "code",
   "execution_count": null,
   "id": "405bc54e-b61b-410f-9cad-1dc7d4b59ba2",
   "metadata": {
    "tags": []
   },
   "outputs": [],
   "source": [
    "df_num_lim=df[['chargeoff_within_12_mths','collections_12_mths_ex_med','delinq_2yrs',\n",
    "             'inq_last_12m','mort_acc','mths_since_last_delinq',\n",
    "             'mths_since_recent_bc_dlq','mths_since_recent_inq','num_accts_ever_120_pd','num_actv_bc_tl',\n",
    "             'num_rev_accts','num_tl_120dpd_2m','num_tl_30dpd','num_tl_90g_dpd_24m','num_tl_op_past_12m',\n",
    "               'open_il_24m','open_rv_24m','pub_rec','pub_rec_bankruptcies', 'tax_liens','fico_mean','share_of_open_acc']]\n",
    "df_num_lim.head()"
   ]
  },
  {
   "cell_type": "code",
   "execution_count": null,
   "id": "0b23d507-d4a3-42e8-831a-88ac3285b560",
   "metadata": {
    "tags": []
   },
   "outputs": [],
   "source": [
    "plt.figure(figsize=(25,25))\n",
    "\n",
    "sns.set(font_scale=1)\n",
    "\n",
    "corr_matrix=df_num_lim.corr()\n",
    "corr_matrix=np.round(corr_matrix,2)\n",
    "corr_matrix[np.abs(corr_matrix)<0.4]=0\n",
    "\n",
    "sns.heatmap(corr_matrix, annot=True, linewidths=.5, cmap='coolwarm')\n",
    "\n",
    "plt.title('Correlation')\n",
    "plt.show()"
   ]
  },
  {
   "cell_type": "code",
   "execution_count": null,
   "id": "9d07b2a8-c43d-4129-90c0-4e78dcc1afd7",
   "metadata": {
    "tags": []
   },
   "outputs": [],
   "source": [
    "df.drop(['mths_since_recent_bc_dlq'], axis=1, inplace=True)\n",
    "df_num_lim=df[['chargeoff_within_12_mths','collections_12_mths_ex_med','delinq_2yrs',\n",
    "             'inq_last_12m','mort_acc','mths_since_last_delinq',\n",
    "             'mths_since_recent_inq','num_accts_ever_120_pd','num_actv_bc_tl',\n",
    "             'num_rev_accts','num_tl_120dpd_2m','num_tl_30dpd','num_tl_90g_dpd_24m','num_tl_op_past_12m',\n",
    "               'open_il_24m','open_rv_24m','pub_rec','pub_rec_bankruptcies', 'tax_liens','fico_mean','share_of_open_acc']]\n",
    "df_num_lim.head()"
   ]
  },
  {
   "cell_type": "code",
   "execution_count": null,
   "id": "ed3e60f1-282a-4312-92dc-db089c30c1f8",
   "metadata": {
    "tags": []
   },
   "outputs": [],
   "source": [
    "plt.figure(figsize=(25,25))\n",
    "\n",
    "sns.set(font_scale=1)\n",
    "\n",
    "corr_matrix=df_num_lim.corr()\n",
    "corr_matrix=np.round(corr_matrix,2)\n",
    "corr_matrix[np.abs(corr_matrix)<0.4]=0\n",
    "\n",
    "sns.heatmap(corr_matrix, annot=True, linewidths=.5, cmap='coolwarm')\n",
    "\n",
    "plt.title('Correlation')\n",
    "plt.show()"
   ]
  },
  {
   "cell_type": "code",
   "execution_count": null,
   "id": "7f451eb4-fcf5-41cd-af1a-062f1d72a531",
   "metadata": {
    "tags": []
   },
   "outputs": [],
   "source": [
    "df['bad_rec']=(df['pub_rec']+df['pub_rec_bankruptcies'])/2\n",
    "df.drop(['pub_rec','pub_rec_bankruptcies'], axis=1,inplace=True)\n",
    "df_num_lim=df[['chargeoff_within_12_mths','collections_12_mths_ex_med','delinq_2yrs',\n",
    "             'inq_last_12m','mort_acc','mths_since_last_delinq',\n",
    "             'mths_since_recent_inq','num_accts_ever_120_pd','num_actv_bc_tl',\n",
    "             'num_rev_accts','num_tl_120dpd_2m','num_tl_30dpd','num_tl_90g_dpd_24m','num_tl_op_past_12m',\n",
    "               'open_il_24m','open_rv_24m','tax_liens','fico_mean','share_of_open_acc','bad_rec']]\n",
    "df_num_lim.head()"
   ]
  },
  {
   "cell_type": "code",
   "execution_count": null,
   "id": "f46dc34b-8c35-48f3-a217-795f292da6db",
   "metadata": {
    "tags": []
   },
   "outputs": [],
   "source": [
    "plt.figure(figsize=(25,25))\n",
    "\n",
    "sns.set(font_scale=1)\n",
    "\n",
    "corr_matrix=df_num_lim.corr()\n",
    "corr_matrix=np.round(corr_matrix,2)\n",
    "corr_matrix[np.abs(corr_matrix)<0.5]=0\n",
    "\n",
    "sns.heatmap(corr_matrix, annot=True, linewidths=.5, cmap='coolwarm')\n",
    "\n",
    "plt.title('Correlation')\n",
    "plt.show()"
   ]
  },
  {
   "cell_type": "code",
   "execution_count": null,
   "id": "4914897f-2d3e-418e-adc0-f5b691e444fd",
   "metadata": {
    "tags": []
   },
   "outputs": [],
   "source": [
    "zero_data_set_sum=df.isnull().sum()\n",
    "zero_data_set_percentage=df.isnull().sum()/df.shape[0]*100\n",
    "zero_data_set=pd.DataFrame({'sum':zero_data_set_sum, 'percentage': zero_data_set_percentage})\n",
    "zero_data_set[zero_data_set['sum']>0].head(40)"
   ]
  },
  {
   "cell_type": "code",
   "execution_count": null,
   "id": "3e7135fd-4d72-4b7e-9108-d6fead858d36",
   "metadata": {
    "tags": []
   },
   "outputs": [],
   "source": [
    "df['number_of_rv_for_12m']=df['open_rv_24m']/2\n",
    "df.drop(['num_tl_op_past_12m','open_rv_24m'], axis=1,inplace=True)\n",
    "df_num_lim=df[['chargeoff_within_12_mths','collections_12_mths_ex_med','delinq_2yrs',\n",
    "             'inq_last_12m','mort_acc','mths_since_last_delinq',\n",
    "             'mths_since_recent_inq','num_accts_ever_120_pd','num_actv_bc_tl',\n",
    "             'num_rev_accts','num_tl_120dpd_2m','num_tl_30dpd','num_tl_90g_dpd_24m',\n",
    "               'open_il_24m','tax_liens','fico_mean','share_of_open_acc','bad_rec', 'number_of_rv_for_12m']]\n",
    "df_num_lim.head()"
   ]
  },
  {
   "cell_type": "code",
   "execution_count": null,
   "id": "ae6bffe4-72ee-4c27-9cf3-8e8470075c5d",
   "metadata": {
    "tags": []
   },
   "outputs": [],
   "source": [
    "plt.figure(figsize=(25,25))\n",
    "\n",
    "sns.set(font_scale=1)\n",
    "\n",
    "corr_matrix=df_num_lim.corr()\n",
    "corr_matrix=np.round(corr_matrix,2)\n",
    "corr_matrix[np.abs(corr_matrix)<0.5]=0\n",
    "\n",
    "sns.heatmap(corr_matrix, annot=True, linewidths=.5, cmap='coolwarm')\n",
    "\n",
    "plt.title('Correlation')\n",
    "plt.show()"
   ]
  },
  {
   "cell_type": "code",
   "execution_count": null,
   "id": "360f1fd5-9606-4ffa-a941-a334c23a7aa4",
   "metadata": {
    "tags": []
   },
   "outputs": [],
   "source": [
    "df.drop(['emp_length'], axis=1, inplace=True)"
   ]
  },
  {
   "cell_type": "code",
   "execution_count": null,
   "id": "0f6ed3de-2959-42db-b2f4-62a28e2226b7",
   "metadata": {
    "tags": []
   },
   "outputs": [],
   "source": [
    "df.info()"
   ]
  },
  {
   "cell_type": "code",
   "execution_count": null,
   "id": "2e86dd6c-8111-480c-bc41-840c1cf5f923",
   "metadata": {
    "tags": []
   },
   "outputs": [],
   "source": [
    "data_term=pd.crosstab(df['term'], df['loan_status'], normalize='index').reset_index().sort_values(by=1)\n",
    "data_term.head()"
   ]
  },
  {
   "cell_type": "code",
   "execution_count": null,
   "id": "fc28b5e0-7b54-4ea7-8a83-14f567dd6719",
   "metadata": {
    "tags": []
   },
   "outputs": [],
   "source": [
    "plt.figure(figsize=(10,6))\n",
    "plt.bar(data_term['term'], data_term[0], label='0')\n",
    "plt.bar(data_term['term'], data_term[1], bottom=data_term[0], label='1')\n",
    "plt.title('Распеределение невозвратов по кредитам в зависимости от срока')\n",
    "plt.xlabel('срок')\n",
    "plt.ylabel('количество в долях')\n",
    "plt.legend()\n",
    "plt.xticks()\n",
    "plt.show()\n",
    "# plt.figure(figsize=(12,10))\n",
    "# plt.bar(data_else['emp_length'], data_else[0], label='0')\n",
    "# plt.bar(data_else['emp_length'], data_else[1], bottom=data_else[0], label='1')\n",
    "# plt.title('Сравнение возврата кредита в зависимости от стажа указанного при заявке')\n",
    "# plt.xlabel('стаж')\n",
    "# plt.ylabel('количество аналогичных случаев')\n",
    "# plt.legend()\n",
    "# plt.xticks()\n",
    "# plt.show()"
   ]
  },
  {
   "cell_type": "code",
   "execution_count": null,
   "id": "c0005de3-a79a-4348-9c8d-b117370814d8",
   "metadata": {
    "tags": []
   },
   "outputs": [],
   "source": [
    "df['purpose'].unique().shape"
   ]
  },
  {
   "cell_type": "code",
   "execution_count": null,
   "id": "66ba605d-62aa-4dd1-a243-c83888a7403a",
   "metadata": {
    "tags": []
   },
   "outputs": [],
   "source": [
    "df['purpose'].replace(['credit_card', 'car', 'other', 'debt_consolidation',\n",
    "       'major_purchase', 'small_business', 'home_improvement', 'moving',\n",
    "       'medical', 'wedding', 'vacation', 'house', 'renewable_energy',\n",
    "       'educational'], [0,1,2,3,4,5,6,7,8,9,10,11,12,13], inplace=True)\n",
    "df['purpose'].value_counts()"
   ]
  },
  {
   "cell_type": "code",
   "execution_count": null,
   "id": "c7b4a0c4-4b1d-4e54-873c-287da3bdf2e8",
   "metadata": {
    "tags": []
   },
   "outputs": [],
   "source": [
    "data_ver=pd.crosstab(df['verification_status'], df['loan_status'], normalize='index').reset_index().sort_values(by=1)\n",
    "data_ver.head()"
   ]
  },
  {
   "cell_type": "code",
   "execution_count": null,
   "id": "aa76776b-2656-45f1-b493-a732ecce2b0c",
   "metadata": {
    "tags": []
   },
   "outputs": [],
   "source": [
    "data_home=pd.crosstab(df['home_ownership'], df['loan_status'], normalize='index').reset_index().sort_values(by=1)\n",
    "data_home.head()"
   ]
  },
  {
   "cell_type": "code",
   "execution_count": null,
   "id": "ebd43564-dfd1-41e9-b751-6ef986665482",
   "metadata": {
    "tags": []
   },
   "outputs": [],
   "source": [
    "plt.figure(figsize=(10,6))\n",
    "plt.hist(df['home_ownership'], bins=10)\n",
    "plt.title('status')\n",
    "plt.xlabel('kind of')\n",
    "plt.ylabel('count')\n",
    "plt.show()"
   ]
  },
  {
   "cell_type": "code",
   "execution_count": null,
   "id": "62bd5923-4349-4686-b3fe-7f73d9a27a11",
   "metadata": {
    "tags": []
   },
   "outputs": [],
   "source": [
    "ownership_mode=df['home_ownership'].mode()[0]\n",
    "ownership_mode"
   ]
  },
  {
   "cell_type": "code",
   "execution_count": null,
   "id": "9f20524e-615f-4060-8baa-9612c659409b",
   "metadata": {
    "tags": []
   },
   "outputs": [],
   "source": [
    "df['home_ownership'].unique()"
   ]
  },
  {
   "cell_type": "code",
   "execution_count": null,
   "id": "3cfb8097-ce8d-4a4c-acf9-715a66633ab4",
   "metadata": {
    "tags": []
   },
   "outputs": [],
   "source": [
    "df['home_ownership'].replace(['OTHER', 'ANY', 'NONE'],['MORTGAGE','MORTGAGE','MORTGAGE'], inplace=True)"
   ]
  },
  {
   "cell_type": "code",
   "execution_count": null,
   "id": "aeb9dae6-f109-459b-a4bf-0e93c0af6284",
   "metadata": {
    "tags": []
   },
   "outputs": [],
   "source": [
    "plt.figure(figsize=(10,6))\n",
    "plt.hist(df['home_ownership'], bins=10)\n",
    "plt.title('status')\n",
    "plt.xlabel('kind of')\n",
    "plt.ylabel('count')\n",
    "plt.show()"
   ]
  },
  {
   "cell_type": "code",
   "execution_count": null,
   "id": "cc049a06-6984-442d-97a0-6b5c2cebe56f",
   "metadata": {
    "tags": []
   },
   "outputs": [],
   "source": [
    "df['home_ownership'].unique()"
   ]
  },
  {
   "cell_type": "code",
   "execution_count": null,
   "id": "737a7c83-771e-4420-9d77-27404fbe5466",
   "metadata": {
    "tags": []
   },
   "outputs": [],
   "source": [
    "df['home_ownership'].replace(['RENT', 'MORTGAGE', 'OWN'], [0,1,3], inplace=True)\n",
    "df['home_ownership'].value_counts()"
   ]
  },
  {
   "cell_type": "code",
   "execution_count": null,
   "id": "115d0802-e681-4b96-a3dd-1a6f3d39ec4a",
   "metadata": {
    "tags": []
   },
   "outputs": [],
   "source": [
    "df.info()"
   ]
  },
  {
   "cell_type": "code",
   "execution_count": null,
   "id": "aa4befc5-76da-4f54-94d4-3eac8be5fe40",
   "metadata": {
    "tags": []
   },
   "outputs": [],
   "source": [
    "df['term'].unique()"
   ]
  },
  {
   "cell_type": "code",
   "execution_count": null,
   "id": "200be73f-e7f3-48d3-85e3-e0abf7633674",
   "metadata": {
    "tags": []
   },
   "outputs": [],
   "source": [
    "df['term'].replace([' 36 months', ' 60 months'], [0,1], inplace=True)\n",
    "df['term'].value_counts()"
   ]
  },
  {
   "cell_type": "code",
   "execution_count": null,
   "id": "7ef62567-e1c5-499a-9358-cf7943cf414c",
   "metadata": {
    "tags": []
   },
   "outputs": [],
   "source": [
    "df.drop(['month_first'], axis=1, inplace=True)"
   ]
  },
  {
   "cell_type": "code",
   "execution_count": null,
   "id": "97ad3044-3377-4587-ba0c-f341601d3bc3",
   "metadata": {
    "tags": []
   },
   "outputs": [],
   "source": [
    "df.columns"
   ]
  },
  {
   "cell_type": "code",
   "execution_count": null,
   "id": "da702cba-fe39-40ef-849a-7e7f1dfbf800",
   "metadata": {
    "tags": []
   },
   "outputs": [],
   "source": [
    "df['credit_load']=df['installment']*12/df['annual_inc']"
   ]
  },
  {
   "cell_type": "code",
   "execution_count": null,
   "id": "a54dffcd-1641-4c59-9612-54648e67825f",
   "metadata": {
    "tags": []
   },
   "outputs": [],
   "source": [
    "compare_date1=df[['credit_load', 'loan_status']]\n",
    "compare_date2=df[['chargeoff_within_12_mths', 'loan_status']]\n",
    "compare_date3=df[['collections_12_mths_ex_med', 'loan_status']]\n",
    "compare_date4=df[['delinq_2yrs', 'loan_status']]\n",
    "compare_date5=df[['dti', 'loan_status']]\n",
    "compare_date6=df[['funded_amnt', 'loan_status']]\n",
    "compare_date7=df[['home_ownership', 'loan_status']]\n",
    "compare_date8=df[['inq_last_12m', 'loan_status']]\n",
    "compare_date9=df[['installment', 'loan_status']]\n",
    "compare_date10=df[['mths_since_last_delinq', 'loan_status']]\n",
    "compare_date11=df[['mths_since_recent_inq', 'loan_status']]\n",
    "compare_date12=df[['num_accts_ever_120_pd', 'loan_status']]\n",
    "compare_date13=df[['num_actv_bc_tl', 'loan_status']]\n",
    "compare_date14=df[['num_rev_accts', 'loan_status']]\n",
    "compare_date15=df[['num_tl_120dpd_2m', 'loan_status']]\n",
    "compare_date16=df[['num_tl_30dpd', 'loan_status']]\n",
    "compare_date17=df[['num_tl_90g_dpd_24m', 'loan_status']]\n",
    "compare_date18=df[['open_il_24m', 'loan_status']]\n",
    "compare_date19=df[['percent_bc_gt_75', 'loan_status']]\n",
    "compare_date20=df[['revol_util', 'loan_status']]\n",
    "compare_date21=df[['tax_liens', 'loan_status']]\n",
    "compare_date22=df[['fico_mean', 'loan_status']]\n",
    "compare_date23=df[['share_of_open_acc', 'loan_status']]\n",
    "compare_date24=df[['bad_rec', 'loan_status']]\n",
    "compare_date25=df[['number_of_rv_for_12m', 'loan_status']]\n",
    "compare_date26=df[['int_rate', 'loan_status']]\n",
    "compare_date27=df[['loan_amnt', 'loan_status']]\n",
    "compare_date28=df[['mort_acc', 'loan_status']]\n",
    "compare_date29=df[['purpose', 'loan_status']]"
   ]
  },
  {
   "cell_type": "code",
   "execution_count": null,
   "id": "d85493b8-53d4-4893-87cf-e2ca0b2fb66c",
   "metadata": {
    "tags": []
   },
   "outputs": [],
   "source": [
    "compare_date1.head()"
   ]
  },
  {
   "cell_type": "code",
   "execution_count": null,
   "id": "7d6d53c1-4d64-4e44-92ec-c94b552d742d",
   "metadata": {
    "tags": []
   },
   "outputs": [],
   "source": [
    "compare_date25.iloc[:,0]"
   ]
  },
  {
   "cell_type": "code",
   "execution_count": null,
   "id": "a0ebaa8e-f3c3-4bd5-8ceb-6824485f1095",
   "metadata": {
    "tags": []
   },
   "outputs": [],
   "source": [
    "compare_date25.columns[1]"
   ]
  },
  {
   "cell_type": "code",
   "execution_count": null,
   "id": "0a412e4b-f6c4-4137-b23d-95da97fbe6f1",
   "metadata": {},
   "outputs": [],
   "source": [
    "plt.figure(figsize=(10, 6))\n",
    "ax = sns.regplot(x=compare_date1.iloc[:,0], y=compare_date1.iloc[:,1], data=compare_date1, color='green', marker='+', scatter_kws={\"color\": \"green\"}, line_kws={\"color\": \"red\"})\n",
    "sns.set(font_scale=2.0)\n",
    "sns.set_style('whitegrid')\n",
    "ax.set(xlabel=compare_date1.columns[0], ylabel=compare_date1.columns[1])\n",
    "ax.set_title('Зависимость двух показателей')\n",
    "plt.show()"
   ]
  },
  {
   "cell_type": "code",
   "execution_count": null,
   "id": "9a0ae1b6-4798-4c60-a119-e8362de158a3",
   "metadata": {},
   "outputs": [],
   "source": [
    "plt.figure(figsize=(10, 6))\n",
    "ax = sns.regplot(x=compare_date2.iloc[:,0], y=compare_date2.iloc[:,1], data=compare_date2, color='green', marker='+', scatter_kws={\"color\": \"green\"}, line_kws={\"color\": \"red\"})\n",
    "sns.set(font_scale=2.0)\n",
    "sns.set_style('whitegrid')\n",
    "ax.set(xlabel=compare_date2.columns[0], ylabel=compare_date2.columns[1])\n",
    "ax.set_title('Зависимость двух показателей')\n",
    "plt.show()"
   ]
  },
  {
   "cell_type": "code",
   "execution_count": null,
   "id": "fae69c52-88a0-4837-87d7-b3648330623c",
   "metadata": {
    "tags": []
   },
   "outputs": [],
   "source": [
    "plt.figure(figsize=(10, 6))\n",
    "ax = sns.regplot(x=compare_date3.iloc[:,0], y=compare_date3.iloc[:,1], data=compare_date3, color='green', marker='+', scatter_kws={\"color\": \"green\"}, line_kws={\"color\": \"red\"})\n",
    "sns.set(font_scale=2.0)\n",
    "sns.set_style('whitegrid')\n",
    "ax.set(xlabel=compare_date3.columns[0], ylabel=compare_date3.columns[1])\n",
    "ax.set_title('Зависимость двух показателей')\n",
    "plt.show()"
   ]
  },
  {
   "cell_type": "code",
   "execution_count": null,
   "id": "e5439891-745d-43d9-ac4e-22c718e6ed5b",
   "metadata": {},
   "outputs": [],
   "source": [
    "plt.figure(figsize=(10, 6))\n",
    "ax = sns.regplot(x=compare_date4.iloc[:,0], y=compare_date4.iloc[:,1], data=compare_date4, color='green', marker='+', scatter_kws={\"color\": \"green\"}, line_kws={\"color\": \"red\"})\n",
    "sns.set(font_scale=2.0)\n",
    "sns.set_style('whitegrid')\n",
    "ax.set(xlabel=compare_date4.columns[0], ylabel=compare_date4.columns[1])\n",
    "ax.set_title('Зависимость двух показателей')\n",
    "plt.show()"
   ]
  },
  {
   "cell_type": "code",
   "execution_count": null,
   "id": "d46f44ef-0dd6-4b78-96a2-550395dace64",
   "metadata": {},
   "outputs": [],
   "source": [
    "plt.figure(figsize=(10, 6))\n",
    "ax = sns.regplot(x=compare_date5.iloc[:,0], y=compare_date5.iloc[:,1], data=compare_date5, color='green', marker='+', scatter_kws={\"color\": \"green\"}, line_kws={\"color\": \"red\"})\n",
    "sns.set(font_scale=2.0)\n",
    "sns.set_style('whitegrid')\n",
    "ax.set(xlabel=compare_date5.columns[0], ylabel=compare_date5.columns[1])\n",
    "ax.set_title('Зависимость двух показателей')\n",
    "plt.show()"
   ]
  },
  {
   "cell_type": "code",
   "execution_count": null,
   "id": "58da0369-43c1-4a40-8e3f-339845c3f007",
   "metadata": {},
   "outputs": [],
   "source": [
    "plt.figure(figsize=(10, 6))\n",
    "ax = sns.regplot(x=compare_date6.iloc[:,0], y=compare_date6.iloc[:,1], data=compare_date6, color='green', marker='+', scatter_kws={\"color\": \"green\"}, line_kws={\"color\": \"red\"})\n",
    "sns.set(font_scale=2.0)\n",
    "sns.set_style('whitegrid')\n",
    "ax.set(xlabel=compare_date6.columns[0], ylabel=compare_date6.columns[1])\n",
    "ax.set_title('Зависимость двух показателей')\n",
    "plt.show()"
   ]
  },
  {
   "cell_type": "code",
   "execution_count": null,
   "id": "f4328f5c-d511-4cfe-ba8d-854ac01dee61",
   "metadata": {},
   "outputs": [],
   "source": [
    "plt.figure(figsize=(10, 6))\n",
    "ax = sns.regplot(x=compare_date7.iloc[:,0], y=compare_date7.iloc[:,1], data=compare_date7, color='green', marker='+', scatter_kws={\"color\": \"green\"}, line_kws={\"color\": \"red\"})\n",
    "sns.set(font_scale=2.0)\n",
    "sns.set_style('whitegrid')\n",
    "ax.set(xlabel=compare_date7.columns[0], ylabel=compare_date7.columns[1])\n",
    "ax.set_title('Зависимость двух показателей')\n",
    "plt.show()"
   ]
  },
  {
   "cell_type": "code",
   "execution_count": null,
   "id": "e8c3f7cd-854a-461b-ba88-03d8ba6e9420",
   "metadata": {},
   "outputs": [],
   "source": [
    "plt.figure(figsize=(10, 6))\n",
    "ax = sns.regplot(x=compare_date8.iloc[:,0], y=compare_date8.iloc[:,1], data=compare_date8, color='green', marker='+', scatter_kws={\"color\": \"green\"}, line_kws={\"color\": \"red\"})\n",
    "sns.set(font_scale=2.0)\n",
    "sns.set_style('whitegrid')\n",
    "ax.set(xlabel=compare_date8.columns[0], ylabel=compare_date8.columns[1])\n",
    "ax.set_title('Зависимость двух показателей')\n",
    "plt.show()"
   ]
  },
  {
   "cell_type": "code",
   "execution_count": null,
   "id": "f33fba70-f2e0-44c4-aab3-29e0a74aac8d",
   "metadata": {},
   "outputs": [],
   "source": [
    "plt.figure(figsize=(10, 6))\n",
    "ax = sns.regplot(x=compare_date9.iloc[:,0], y=compare_date9.iloc[:,1], data=compare_date9, color='green', marker='+', scatter_kws={\"color\": \"green\"}, line_kws={\"color\": \"red\"})\n",
    "sns.set(font_scale=2.0)\n",
    "sns.set_style('whitegrid')\n",
    "ax.set(xlabel=compare_date9.columns[0], ylabel=compare_date9.columns[1])\n",
    "ax.set_title('Зависимость двух показателей')\n",
    "plt.show()"
   ]
  },
  {
   "cell_type": "code",
   "execution_count": null,
   "id": "b9c85d1b-9b12-451f-8dc5-2e3537f07a47",
   "metadata": {},
   "outputs": [],
   "source": [
    "plt.figure(figsize=(10, 6))\n",
    "ax = sns.regplot(x=compare_date10.iloc[:,0], y=compare_date10.iloc[:,1], data=compare_date10, color='green', marker='+', scatter_kws={\"color\": \"green\"}, line_kws={\"color\": \"red\"})\n",
    "sns.set(font_scale=2.0)\n",
    "sns.set_style('whitegrid')\n",
    "ax.set(xlabel=compare_date10.columns[0], ylabel=compare_date10.columns[1])\n",
    "ax.set_title('Зависимость двух показателей')\n",
    "plt.show()"
   ]
  },
  {
   "cell_type": "code",
   "execution_count": null,
   "id": "bd7b3885-a232-4349-9afe-17cf62ca778a",
   "metadata": {},
   "outputs": [],
   "source": [
    "plt.figure(figsize=(10, 6))\n",
    "ax = sns.regplot(x=compare_date11.iloc[:,0], y=compare_date11.iloc[:,1], data=compare_date11, color='green', marker='+', scatter_kws={\"color\": \"green\"}, line_kws={\"color\": \"red\"})\n",
    "sns.set(font_scale=2.0)\n",
    "sns.set_style('whitegrid')\n",
    "ax.set(xlabel=compare_date11.columns[0], ylabel=compare_date11.columns[1])\n",
    "ax.set_title('Зависимость двух показателей')\n",
    "plt.show()"
   ]
  },
  {
   "cell_type": "code",
   "execution_count": null,
   "id": "85937bd4-1f5f-45e8-911e-696b84421415",
   "metadata": {},
   "outputs": [],
   "source": [
    "plt.figure(figsize=(10, 6))\n",
    "ax = sns.regplot(x=compare_date12.iloc[:,0], y=compare_date12.iloc[:,1], data=compare_date12, color='green', marker='+', scatter_kws={\"color\": \"green\"}, line_kws={\"color\": \"red\"})\n",
    "sns.set(font_scale=2.0)\n",
    "sns.set_style('whitegrid')\n",
    "ax.set(xlabel=compare_date12.columns[0], ylabel=compare_date12.columns[1])\n",
    "ax.set_title('Зависимость двух показателей')\n",
    "plt.show()"
   ]
  },
  {
   "cell_type": "code",
   "execution_count": null,
   "id": "01a6034c-6f09-45b0-9ca3-7a083146a41c",
   "metadata": {},
   "outputs": [],
   "source": [
    "plt.figure(figsize=(10, 6))\n",
    "ax = sns.regplot(x=compare_date13.iloc[:,0], y=compare_date13.iloc[:,1], data=compare_date13, color='green', marker='+', scatter_kws={\"color\": \"green\"}, line_kws={\"color\": \"red\"})\n",
    "sns.set(font_scale=2.0)\n",
    "sns.set_style('whitegrid')\n",
    "ax.set(xlabel=compare_date13.columns[0], ylabel=compare_date13.columns[1])\n",
    "ax.set_title('Зависимость двух показателей')\n",
    "plt.show()"
   ]
  },
  {
   "cell_type": "code",
   "execution_count": null,
   "id": "a705190c-7ad6-4ccd-b92b-a3aea39fb9a9",
   "metadata": {},
   "outputs": [],
   "source": [
    "plt.figure(figsize=(10, 6))\n",
    "ax = sns.regplot(x=compare_date14.iloc[:,0], y=compare_date14.iloc[:,1], data=compare_date14, color='green', marker='+', scatter_kws={\"color\": \"green\"}, line_kws={\"color\": \"red\"})\n",
    "sns.set(font_scale=2.0)\n",
    "sns.set_style('whitegrid')\n",
    "ax.set(xlabel=compare_date14.columns[0], ylabel=compare_date14.columns[1])\n",
    "ax.set_title('Зависимость двух показателей')\n",
    "plt.show()"
   ]
  },
  {
   "cell_type": "code",
   "execution_count": null,
   "id": "d69b1755-e465-4e58-8863-49010465cc09",
   "metadata": {},
   "outputs": [],
   "source": [
    "plt.figure(figsize=(10, 6))\n",
    "ax = sns.regplot(x=compare_date15.iloc[:,0], y=compare_date15.iloc[:,1], data=compare_date15, color='green', marker='+', scatter_kws={\"color\": \"green\"}, line_kws={\"color\": \"red\"})\n",
    "sns.set(font_scale=2.0)\n",
    "sns.set_style('whitegrid')\n",
    "ax.set(xlabel=compare_date15.columns[0], ylabel=compare_date15.columns[1])\n",
    "ax.set_title('Зависимость двух показателей')\n",
    "plt.show()"
   ]
  },
  {
   "cell_type": "code",
   "execution_count": null,
   "id": "a5af7977-ac3d-454f-9310-dde835af1a4f",
   "metadata": {},
   "outputs": [],
   "source": [
    "plt.figure(figsize=(10, 6))\n",
    "ax = sns.regplot(x=compare_date16.iloc[:,0], y=compare_date16.iloc[:,1], data=compare_date16, color='green', marker='+', scatter_kws={\"color\": \"green\"}, line_kws={\"color\": \"red\"})\n",
    "sns.set(font_scale=2.0)\n",
    "sns.set_style('whitegrid')\n",
    "ax.set(xlabel=compare_date16.columns[0], ylabel=compare_date16.columns[1])\n",
    "ax.set_title('Зависимость двух показателей')\n",
    "plt.show()"
   ]
  },
  {
   "cell_type": "code",
   "execution_count": null,
   "id": "8d1567b7-ca61-48ec-b3d1-80e19c081107",
   "metadata": {},
   "outputs": [],
   "source": [
    "plt.figure(figsize=(10, 6))\n",
    "ax = sns.regplot(x=compare_date17.iloc[:,0], y=compare_date17.iloc[:,1], data=compare_date17, color='green', marker='+', scatter_kws={\"color\": \"green\"}, line_kws={\"color\": \"red\"})\n",
    "sns.set(font_scale=2.0)\n",
    "sns.set_style('whitegrid')\n",
    "ax.set(xlabel=compare_date17.columns[0], ylabel=compare_date17.columns[1])\n",
    "ax.set_title('Зависимость двух показателей')\n",
    "plt.show()"
   ]
  },
  {
   "cell_type": "code",
   "execution_count": null,
   "id": "01680df3-4216-4883-88a0-48541e838a23",
   "metadata": {},
   "outputs": [],
   "source": [
    "plt.figure(figsize=(10, 6))\n",
    "ax = sns.regplot(x=compare_date18.iloc[:,0], y=compare_date18.iloc[:,1], data=compare_date18, color='green', marker='+', scatter_kws={\"color\": \"green\"}, line_kws={\"color\": \"red\"})\n",
    "sns.set(font_scale=2.0)\n",
    "sns.set_style('whitegrid')\n",
    "ax.set(xlabel=compare_date18.columns[0], ylabel=compare_date18.columns[1])\n",
    "ax.set_title('Зависимость двух показателей')\n",
    "plt.show()"
   ]
  },
  {
   "cell_type": "code",
   "execution_count": null,
   "id": "eb26daa2-b65c-4b6e-84d2-760e916b8343",
   "metadata": {},
   "outputs": [],
   "source": [
    "plt.figure(figsize=(10, 6))\n",
    "ax = sns.regplot(x=compare_date19.iloc[:,0], y=compare_date19.iloc[:,1], data=compare_date19, color='green', marker='+', scatter_kws={\"color\": \"green\"}, line_kws={\"color\": \"red\"})\n",
    "sns.set(font_scale=2.0)\n",
    "sns.set_style('whitegrid')\n",
    "ax.set(xlabel=compare_date19.columns[0], ylabel=compare_date19.columns[1])\n",
    "ax.set_title('Зависимость двух показателей')\n",
    "plt.show()"
   ]
  },
  {
   "cell_type": "code",
   "execution_count": null,
   "id": "d42ca413-2ff4-4faa-bc0a-0e6b73e221ce",
   "metadata": {},
   "outputs": [],
   "source": [
    "plt.figure(figsize=(10, 6))\n",
    "ax = sns.regplot(x=compare_date20.iloc[:,0], y=compare_date20.iloc[:,1], data=compare_date20, color='green', marker='+', scatter_kws={\"color\": \"green\"}, line_kws={\"color\": \"red\"})\n",
    "sns.set(font_scale=2.0)\n",
    "sns.set_style('whitegrid')\n",
    "ax.set(xlabel=compare_date20.columns[0], ylabel=compare_date20.columns[1])\n",
    "ax.set_title('Зависимость двух показателей')\n",
    "plt.show()"
   ]
  },
  {
   "cell_type": "code",
   "execution_count": null,
   "id": "7b1aadc8-ba09-4e03-8b4f-6d59dc9f534e",
   "metadata": {},
   "outputs": [],
   "source": [
    "plt.figure(figsize=(10, 6))\n",
    "ax = sns.regplot(x=compare_date21.iloc[:,0], y=compare_date21.iloc[:,1], data=compare_date21, color='green', marker='+', scatter_kws={\"color\": \"green\"}, line_kws={\"color\": \"red\"})\n",
    "sns.set(font_scale=2.0)\n",
    "sns.set_style('whitegrid')\n",
    "ax.set(xlabel=compare_date21.columns[0], ylabel=compare_date21.columns[1])\n",
    "ax.set_title('Зависимость двух показателей')\n",
    "plt.show()"
   ]
  },
  {
   "cell_type": "code",
   "execution_count": null,
   "id": "b74cb633-8c1d-4c63-9387-80842aa5f30e",
   "metadata": {},
   "outputs": [],
   "source": [
    "plt.figure(figsize=(10, 6))\n",
    "ax = sns.regplot(x=compare_date22.iloc[:,0], y=compare_date22.iloc[:,1], data=compare_date22, color='green', marker='+', scatter_kws={\"color\": \"green\"}, line_kws={\"color\": \"red\"})\n",
    "sns.set(font_scale=2.0)\n",
    "sns.set_style('whitegrid')\n",
    "ax.set(xlabel=compare_date22.columns[0], ylabel=compare_date22.columns[1])\n",
    "ax.set_title('Зависимость двух показателей')\n",
    "plt.show()"
   ]
  },
  {
   "cell_type": "code",
   "execution_count": null,
   "id": "943fc37b-41d7-42df-95bf-17c2a02bb8d3",
   "metadata": {},
   "outputs": [],
   "source": [
    "plt.figure(figsize=(10, 6))\n",
    "ax = sns.regplot(x=compare_date23.iloc[:,0], y=compare_date23.iloc[:,1], data=compare_date23, color='green', marker='+', scatter_kws={\"color\": \"green\"}, line_kws={\"color\": \"red\"})\n",
    "sns.set(font_scale=2.0)\n",
    "sns.set_style('whitegrid')\n",
    "ax.set(xlabel=compare_date23.columns[0], ylabel=compare_date23.columns[1])\n",
    "ax.set_title('Зависимость двух показателей')\n",
    "plt.show()"
   ]
  },
  {
   "cell_type": "code",
   "execution_count": null,
   "id": "b735392f-12e4-4561-81e7-fae3095096b8",
   "metadata": {
    "tags": []
   },
   "outputs": [],
   "source": [
    "plt.figure(figsize=(10, 6))\n",
    "ax = sns.regplot(x=compare_date24.iloc[:,0], y=compare_date24.iloc[:,1], data=compare_date24, color='green', marker='+', scatter_kws={\"color\": \"green\"}, line_kws={\"color\": \"red\"})\n",
    "sns.set(font_scale=2.0)\n",
    "sns.set_style('whitegrid')\n",
    "ax.set(xlabel=compare_date24.columns[0], ylabel=compare_date24.columns[1])\n",
    "ax.set_title('Зависимость двух показателей')\n",
    "plt.show()"
   ]
  },
  {
   "cell_type": "code",
   "execution_count": null,
   "id": "b39fbe46-2372-4032-8e9b-6413d8c10478",
   "metadata": {
    "tags": []
   },
   "outputs": [],
   "source": [
    "plt.figure(figsize=(10, 6))\n",
    "ax = sns.regplot(x=compare_date25.iloc[:,0], y=compare_date25.iloc[:,1], data=compare_date25, color='green', marker='+', scatter_kws={\"color\": \"green\"}, line_kws={\"color\": \"red\"})\n",
    "sns.set(font_scale=2.0)\n",
    "sns.set_style('whitegrid')\n",
    "ax.set(xlabel=compare_date25.columns[0], ylabel=compare_date25.columns[1])\n",
    "ax.set_title('Зависимость двух показателей')\n",
    "plt.show()"
   ]
  },
  {
   "cell_type": "code",
   "execution_count": null,
   "id": "11411748-9834-4269-887c-baace47ca71b",
   "metadata": {
    "tags": []
   },
   "outputs": [],
   "source": [
    "plt.figure(figsize=(10, 6))\n",
    "ax = sns.regplot(x=compare_date26.iloc[:,0], y=compare_date26.iloc[:,1], data=compare_date26, color='green', marker='+', scatter_kws={\"color\": \"green\"}, line_kws={\"color\": \"red\"})\n",
    "sns.set(font_scale=2.0)\n",
    "sns.set_style('whitegrid')\n",
    "ax.set(xlabel=compare_date26.columns[0], ylabel=compare_date26.columns[1])\n",
    "ax.set_title('Зависимость двух показателей')\n",
    "plt.show()"
   ]
  },
  {
   "cell_type": "code",
   "execution_count": null,
   "id": "bf20fd44-cb7e-43d2-a9b2-93629de0e73a",
   "metadata": {
    "tags": []
   },
   "outputs": [],
   "source": [
    "plt.figure(figsize=(10, 6))\n",
    "ax = sns.regplot(x=compare_date27.iloc[:,0], y=compare_date27.iloc[:,1], data=compare_date27, color='green', marker='+', scatter_kws={\"color\": \"green\"}, line_kws={\"color\": \"red\"})\n",
    "sns.set(font_scale=2.0)\n",
    "sns.set_style('whitegrid')\n",
    "ax.set(xlabel=compare_date27.columns[0], ylabel=compare_date27.columns[1])\n",
    "ax.set_title('Зависимость двух показателей')\n",
    "plt.show()"
   ]
  },
  {
   "cell_type": "code",
   "execution_count": null,
   "id": "ecb9f582-3b89-4994-8b46-f105445a22d1",
   "metadata": {
    "tags": []
   },
   "outputs": [],
   "source": [
    "plt.figure(figsize=(10, 6))\n",
    "ax = sns.regplot(x=compare_date28.iloc[:,0], y=compare_date28.iloc[:,1], data=compare_date28, color='green', marker='+', scatter_kws={\"color\": \"green\"}, line_kws={\"color\": \"red\"})\n",
    "sns.set(font_scale=2.0)\n",
    "sns.set_style('whitegrid')\n",
    "ax.set(xlabel=compare_date28.columns[0], ylabel=compare_date28.columns[1])\n",
    "ax.set_title('Зависимость двух показателей')\n",
    "plt.show()"
   ]
  },
  {
   "cell_type": "code",
   "execution_count": null,
   "id": "8881dc38-ee54-478a-90b8-7fb2d902d58a",
   "metadata": {
    "tags": []
   },
   "outputs": [],
   "source": [
    "plt.figure(figsize=(10, 6))\n",
    "ax = sns.regplot(x=compare_date29.iloc[:,0], y=compare_date29.iloc[:,1], data=compare_date29, color='green', marker='+', scatter_kws={\"color\": \"green\"}, line_kws={\"color\": \"red\"})\n",
    "sns.set(font_scale=2.0)\n",
    "sns.set_style('whitegrid')\n",
    "ax.set(xlabel=compare_date29.columns[0], ylabel=compare_date29.columns[1])\n",
    "ax.set_title('Зависимость двух показателей')\n",
    "plt.show()"
   ]
  },
  {
   "cell_type": "code",
   "execution_count": null,
   "id": "ef67fd9a-004c-47e8-8ad7-21a8ec1c1cd3",
   "metadata": {
    "tags": []
   },
   "outputs": [],
   "source": [
    "compare_date30=df[['term','loan_status']]"
   ]
  },
  {
   "cell_type": "code",
   "execution_count": null,
   "id": "5b5f6578-c920-4f7a-b3ff-ebbd10a78486",
   "metadata": {
    "tags": []
   },
   "outputs": [],
   "source": [
    "plt.figure(figsize=(10, 6))\n",
    "ax = sns.regplot(x=compare_date30.iloc[:,0], y=compare_date30.iloc[:,1], data=compare_date30, color='green', marker='+', scatter_kws={\"color\": \"green\"}, line_kws={\"color\": \"red\"})\n",
    "sns.set(font_scale=2.0)\n",
    "sns.set_style('whitegrid')\n",
    "ax.set(xlabel=compare_date30.columns[0], ylabel=compare_date30.columns[1])\n",
    "ax.set_title('Зависимость двух показателей')\n",
    "plt.show()"
   ]
  },
  {
   "cell_type": "code",
   "execution_count": null,
   "id": "a3b6acab-a465-438a-9131-f90096197faf",
   "metadata": {},
   "outputs": [],
   "source": []
  }
 ],
 "metadata": {
  "kernelspec": {
   "display_name": "Python 3 (ipykernel)",
   "language": "python",
   "name": "python3"
  },
  "language_info": {
   "codemirror_mode": {
    "name": "ipython",
    "version": 3
   },
   "file_extension": ".py",
   "mimetype": "text/x-python",
   "name": "python",
   "nbconvert_exporter": "python",
   "pygments_lexer": "ipython3",
   "version": "3.11.3"
  }
 },
 "nbformat": 4,
 "nbformat_minor": 5
}
