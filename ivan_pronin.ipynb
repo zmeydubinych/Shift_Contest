{
 "cells": [
  {
   "cell_type": "markdown",
   "id": "ad8bb525-567b-4f9e-84dc-ddb6d0eef4a9",
   "metadata": {},
   "source": [
    "ШИФТ конкурс \"Займы\""
   ]
  },
  {
   "cell_type": "code",
   "execution_count": 29,
   "id": "ef499615-2b1c-44cc-9b4a-9df5b2a01340",
   "metadata": {
    "tags": []
   },
   "outputs": [],
   "source": [
    "import pandas as pd\n",
    "import numpy as np\n",
    "from sklearn import preprocessing\n",
    "from sklearn.impute import SimpleImputer\n",
    "import sklearn.metrics as metrics\n",
    "from sklearn.metrics import roc_curve\n",
    "from sklearn.metrics import auc\n",
    "from pandas.api.types import is_numeric_dtype\n",
    "from catboost import CatBoostClassifier, Pool\n",
    "import catboost as cb"
   ]
  },
  {
   "cell_type": "markdown",
   "id": "c03846f8-8d1e-4b3b-b8ee-04b0cb4d4075",
   "metadata": {},
   "source": [
    "## Замените путь до .csv файлов"
   ]
  },
  {
   "cell_type": "code",
   "execution_count": 30,
   "id": "86f09c68-8186-41fa-a593-b777e82dc79b",
   "metadata": {
    "tags": []
   },
   "outputs": [],
   "source": [
    "df = pd.read_csv('/home/ivan_pronin/IT/shift/lending/X_train.csv', index_col=\"index\")\n",
    "df1 = pd.read_csv('/home/ivan_pronin/IT/shift/lending/X_test.csv', index_col=\"index\")\n",
    "y = pd.read_csv('/home/ivan_pronin/IT/shift/lending/y_train.csv', index_col=\"index\")\n",
    "y_train=y['loan_status'].to_numpy()"
   ]
  },
  {
   "cell_type": "code",
   "execution_count": 31,
   "id": "34c1869f-281c-4309-ae2f-a54db554adef",
   "metadata": {
    "tags": []
   },
   "outputs": [
    {
     "name": "stderr",
     "output_type": "stream",
     "text": [
      "/tmp/ipykernel_18064/3468594534.py:4: UserWarning: Could not infer format, so each element will be parsed individually, falling back to `dateutil`. To ensure parsing is consistent and as-expected, please specify a format.\n",
      "  df['year_issue'] = pd.to_datetime(df['issue_d']).dt.year\n",
      "/tmp/ipykernel_18064/3468594534.py:5: UserWarning: Could not infer format, so each element will be parsed individually, falling back to `dateutil`. To ensure parsing is consistent and as-expected, please specify a format.\n",
      "  df['year_earl'] = pd.to_datetime(df['earliest_cr_line']).dt.year\n"
     ]
    }
   ],
   "source": [
    "df['fico_mean']=round((df['fico_range_high']+df['fico_range_low'])/2,0)\n",
    "df['int_rate']=df['int_rate'].str.replace('%', '').astype(float)\n",
    "df['revol_util']=df['revol_util'].str.replace('%', '').astype(float)\n",
    "df['year_issue'] = pd.to_datetime(df['issue_d']).dt.year\n",
    "df['year_earl'] = pd.to_datetime(df['earliest_cr_line']).dt.year"
   ]
  },
  {
   "cell_type": "code",
   "execution_count": 32,
   "id": "e8c55087-8d8f-4129-bcb5-86cf4a61d455",
   "metadata": {
    "tags": []
   },
   "outputs": [
    {
     "name": "stderr",
     "output_type": "stream",
     "text": [
      "/tmp/ipykernel_18064/1974380639.py:4: UserWarning: Could not infer format, so each element will be parsed individually, falling back to `dateutil`. To ensure parsing is consistent and as-expected, please specify a format.\n",
      "  df1['year_issue'] = pd.to_datetime(df1['issue_d']).dt.year\n",
      "/tmp/ipykernel_18064/1974380639.py:5: UserWarning: Could not infer format, so each element will be parsed individually, falling back to `dateutil`. To ensure parsing is consistent and as-expected, please specify a format.\n",
      "  df1['year_earl'] = pd.to_datetime(df1['earliest_cr_line']).dt.year\n"
     ]
    }
   ],
   "source": [
    "df1['fico_mean']=round((df1['fico_range_high']+df1['fico_range_low'])/2,0)\n",
    "df1['int_rate']=df1['int_rate'].str.replace('%', '').astype(float)\n",
    "df1['revol_util']=df1['revol_util'].str.replace('%', '').astype(float)\n",
    "df1['year_issue'] = pd.to_datetime(df1['issue_d']).dt.year\n",
    "df1['year_earl'] = pd.to_datetime(df1['earliest_cr_line']).dt.year"
   ]
  },
  {
   "cell_type": "code",
   "execution_count": 33,
   "id": "d326d9e5-d2b3-4d5d-9f27-a1672dabbcbe",
   "metadata": {
    "tags": []
   },
   "outputs": [],
   "source": [
    "df.drop(['fico_range_high','fico_range_low','open_acc'], axis=1, inplace=True)"
   ]
  },
  {
   "cell_type": "code",
   "execution_count": 34,
   "id": "c2f6fd77-7bba-4ef4-bb1a-3110992fca43",
   "metadata": {},
   "outputs": [],
   "source": [
    "df1.drop(['fico_range_high','fico_range_low','open_acc'], axis=1, inplace=True)"
   ]
  },
  {
   "cell_type": "code",
   "execution_count": 35,
   "id": "62918cfd-e4d9-4f31-9793-09c488026323",
   "metadata": {},
   "outputs": [],
   "source": [
    "pd.set_option('display.float_format', lambda x: '%0.4f' % x)\n",
    "pd.set_option('display.max_columns', None)"
   ]
  },
  {
   "cell_type": "code",
   "execution_count": 36,
   "id": "11948d6a-28e5-4592-b6fa-180528e4a4ef",
   "metadata": {
    "tags": []
   },
   "outputs": [
    {
     "name": "stdout",
     "output_type": "stream",
     "text": [
      "acc_now_delinq : 0.0000%\n",
      "addr_state : 0.0000%\n",
      "annual_inc : 0.0000%\n",
      "chargeoff_within_12_mths : 0.0031%\n",
      "collections_12_mths_ex_med : 0.0031%\n",
      "delinq_2yrs : 0.0000%\n",
      "dti : 0.0000%\n",
      "earliest_cr_line : 0.0000%\n",
      "emp_length : 5.9796%\n",
      "funded_amnt : 0.0000%\n",
      "home_ownership : 0.0000%\n",
      "inq_last_12m : 47.2734%\n",
      "installment : 0.0000%\n",
      "int_rate : 0.0000%\n",
      "issue_d : 0.0000%\n",
      "loan_amnt : 0.0000%\n",
      "mort_acc : 2.6287%\n",
      "mths_since_last_delinq : 50.6261%\n",
      "mths_since_recent_bc_dlq : 76.4419%\n",
      "mths_since_recent_inq : 12.4832%\n",
      "num_accts_ever_120_pd : 3.7512%\n",
      "num_actv_bc_tl : 3.7512%\n",
      "num_rev_accts : 3.7513%\n",
      "num_sats : 3.1083%\n",
      "num_tl_120dpd_2m : 7.5515%\n",
      "num_tl_30dpd : 3.7512%\n",
      "num_tl_90g_dpd_24m : 3.7512%\n",
      "num_tl_op_past_12m : 3.7512%\n",
      "open_il_24m : 47.2733%\n",
      "open_rv_24m : 47.2733%\n",
      "percent_bc_gt_75 : 3.6949%\n",
      "pub_rec : 0.0000%\n",
      "pub_rec_bankruptcies : 0.0389%\n",
      "purpose : 0.0000%\n",
      "revol_util : 0.0701%\n",
      "tax_liens : 0.0023%\n",
      "term : 0.0000%\n",
      "title : 1.1501%\n",
      "total_acc : 0.0000%\n",
      "verification_status : 0.0000%\n",
      "zip_code : 0.0001%\n",
      "fico_mean : 0.0000%\n",
      "year_issue : 0.0000%\n",
      "year_earl : 0.0000%\n"
     ]
    }
   ],
   "source": [
    "for col in df.columns:\n",
    "    print(f'{col} : {df[col].isna().sum()/df.shape[0]*100:.4f}%')"
   ]
  },
  {
   "cell_type": "code",
   "execution_count": 37,
   "id": "cac9ab38-8949-4539-aa98-758f6c1b5653",
   "metadata": {
    "tags": []
   },
   "outputs": [
    {
     "name": "stdout",
     "output_type": "stream",
     "text": [
      "acc_now_delinq : 0.0000%\n",
      "addr_state : 0.0000%\n",
      "annual_inc : 0.0000%\n",
      "chargeoff_within_12_mths : 0.0031%\n",
      "collections_12_mths_ex_med : 0.0031%\n",
      "delinq_2yrs : 0.0000%\n",
      "dti : 0.0000%\n",
      "earliest_cr_line : 0.0000%\n",
      "emp_length : 5.9796%\n",
      "funded_amnt : 0.0000%\n",
      "home_ownership : 0.0000%\n",
      "inq_last_12m : 47.2734%\n",
      "installment : 0.0000%\n",
      "int_rate : 0.0000%\n",
      "issue_d : 0.0000%\n",
      "loan_amnt : 0.0000%\n",
      "mort_acc : 2.6287%\n",
      "mths_since_last_delinq : 50.6261%\n",
      "mths_since_recent_bc_dlq : 76.4419%\n",
      "mths_since_recent_inq : 12.4832%\n",
      "num_accts_ever_120_pd : 3.7512%\n",
      "num_actv_bc_tl : 3.7512%\n",
      "num_rev_accts : 3.7513%\n",
      "num_sats : 3.1083%\n",
      "num_tl_120dpd_2m : 7.5515%\n",
      "num_tl_30dpd : 3.7512%\n",
      "num_tl_90g_dpd_24m : 3.7512%\n",
      "num_tl_op_past_12m : 3.7512%\n",
      "open_il_24m : 47.2733%\n",
      "open_rv_24m : 47.2733%\n",
      "percent_bc_gt_75 : 3.6949%\n",
      "pub_rec : 0.0000%\n",
      "pub_rec_bankruptcies : 0.0389%\n",
      "purpose : 0.0000%\n",
      "revol_util : 0.0701%\n",
      "tax_liens : 0.0023%\n",
      "term : 0.0000%\n",
      "title : 1.1501%\n",
      "total_acc : 0.0000%\n",
      "verification_status : 0.0000%\n",
      "zip_code : 0.0001%\n",
      "fico_mean : 0.0000%\n",
      "year_issue : 0.0000%\n",
      "year_earl : 0.0000%\n"
     ]
    }
   ],
   "source": [
    "for col in df1.columns:\n",
    "    print(f'{col} : {df[col].isna().sum()/df.shape[0]*100:.4f}%')"
   ]
  },
  {
   "cell_type": "code",
   "execution_count": 38,
   "id": "2a80a407-682e-439a-b508-576392f2344b",
   "metadata": {
    "tags": []
   },
   "outputs": [],
   "source": [
    "zero_data_set_sum=df.isnull().sum()\n",
    "zero_data_set_percentage=df.isnull().sum()/df.shape[0]*100\n",
    "zero_data_set=pd.DataFrame({'sum':zero_data_set_sum, 'percentage': zero_data_set_percentage})\n",
    "zero=zero_data_set[zero_data_set['sum']>0].head(40)"
   ]
  },
  {
   "cell_type": "code",
   "execution_count": 39,
   "id": "705a177d-55ae-4f36-9557-528e9ecdfe7e",
   "metadata": {
    "tags": []
   },
   "outputs": [],
   "source": [
    "imputer = SimpleImputer(strategy='constant', fill_value=-999)\n",
    "column_to_impute=[]\n",
    "for i in range(len(zero.index)):\n",
    "    column_to_impute.append(zero.index[i])"
   ]
  },
  {
   "cell_type": "code",
   "execution_count": 40,
   "id": "3c60056f-66cf-4071-bf97-a7e4337dfeff",
   "metadata": {
    "tags": []
   },
   "outputs": [],
   "source": [
    "for col in column_to_impute:\n",
    "    imputed_column = imputer.fit_transform(df[[col]])\n",
    "    df[[col]] = imputed_column"
   ]
  },
  {
   "cell_type": "code",
   "execution_count": 41,
   "id": "e0f46a15-907d-416c-ac1c-3841fa43126c",
   "metadata": {
    "tags": []
   },
   "outputs": [],
   "source": [
    "for col in column_to_impute:\n",
    "    imputed_column = imputer.fit_transform(df1[[col]])\n",
    "    df1[[col]] = imputed_column"
   ]
  },
  {
   "cell_type": "code",
   "execution_count": 42,
   "id": "5fa51fed-3769-4b9d-ba55-94c820b671f7",
   "metadata": {},
   "outputs": [
    {
     "name": "stdout",
     "output_type": "stream",
     "text": [
      "<class 'pandas.core.frame.DataFrame'>\n",
      "Index: 1199861 entries, 0 to 1199860\n",
      "Data columns (total 44 columns):\n",
      " #   Column                      Non-Null Count    Dtype  \n",
      "---  ------                      --------------    -----  \n",
      " 0   acc_now_delinq              1199861 non-null  float64\n",
      " 1   addr_state                  1199861 non-null  object \n",
      " 2   annual_inc                  1199861 non-null  float64\n",
      " 3   chargeoff_within_12_mths    1199861 non-null  float64\n",
      " 4   collections_12_mths_ex_med  1199861 non-null  float64\n",
      " 5   delinq_2yrs                 1199861 non-null  float64\n",
      " 6   dti                         1199861 non-null  float64\n",
      " 7   earliest_cr_line            1199861 non-null  object \n",
      " 8   emp_length                  1199861 non-null  object \n",
      " 9   funded_amnt                 1199861 non-null  float64\n",
      " 10  home_ownership              1199861 non-null  object \n",
      " 11  inq_last_12m                1199861 non-null  float64\n",
      " 12  installment                 1199861 non-null  float64\n",
      " 13  int_rate                    1199861 non-null  float64\n",
      " 14  issue_d                     1199861 non-null  object \n",
      " 15  loan_amnt                   1199861 non-null  float64\n",
      " 16  mort_acc                    1199861 non-null  float64\n",
      " 17  mths_since_last_delinq      1199861 non-null  float64\n",
      " 18  mths_since_recent_bc_dlq    1199861 non-null  float64\n",
      " 19  mths_since_recent_inq       1199861 non-null  float64\n",
      " 20  num_accts_ever_120_pd       1199861 non-null  float64\n",
      " 21  num_actv_bc_tl              1199861 non-null  float64\n",
      " 22  num_rev_accts               1199861 non-null  float64\n",
      " 23  num_sats                    1199861 non-null  float64\n",
      " 24  num_tl_120dpd_2m            1199861 non-null  float64\n",
      " 25  num_tl_30dpd                1199861 non-null  float64\n",
      " 26  num_tl_90g_dpd_24m          1199861 non-null  float64\n",
      " 27  num_tl_op_past_12m          1199861 non-null  float64\n",
      " 28  open_il_24m                 1199861 non-null  float64\n",
      " 29  open_rv_24m                 1199861 non-null  float64\n",
      " 30  percent_bc_gt_75            1199861 non-null  float64\n",
      " 31  pub_rec                     1199861 non-null  float64\n",
      " 32  pub_rec_bankruptcies        1199861 non-null  float64\n",
      " 33  purpose                     1199861 non-null  object \n",
      " 34  revol_util                  1199861 non-null  float64\n",
      " 35  tax_liens                   1199861 non-null  float64\n",
      " 36  term                        1199861 non-null  object \n",
      " 37  title                       1199861 non-null  object \n",
      " 38  total_acc                   1199861 non-null  float64\n",
      " 39  verification_status         1199861 non-null  object \n",
      " 40  zip_code                    1199861 non-null  object \n",
      " 41  fico_mean                   1199861 non-null  float64\n",
      " 42  year_issue                  1199861 non-null  int32  \n",
      " 43  year_earl                   1199861 non-null  int32  \n",
      "dtypes: float64(32), int32(2), object(10)\n",
      "memory usage: 402.8+ MB\n"
     ]
    }
   ],
   "source": [
    "df.info()"
   ]
  },
  {
   "cell_type": "code",
   "execution_count": 43,
   "id": "00205f19-e7ed-4aa1-9928-fec2e76f4892",
   "metadata": {},
   "outputs": [
    {
     "name": "stdout",
     "output_type": "stream",
     "text": [
      "<class 'pandas.core.frame.DataFrame'>\n",
      "Index: 590977 entries, 0 to 590976\n",
      "Data columns (total 44 columns):\n",
      " #   Column                      Non-Null Count   Dtype  \n",
      "---  ------                      --------------   -----  \n",
      " 0   acc_now_delinq              590977 non-null  float64\n",
      " 1   addr_state                  590977 non-null  object \n",
      " 2   annual_inc                  590977 non-null  float64\n",
      " 3   chargeoff_within_12_mths    590977 non-null  float64\n",
      " 4   collections_12_mths_ex_med  590977 non-null  float64\n",
      " 5   delinq_2yrs                 590977 non-null  float64\n",
      " 6   dti                         590977 non-null  float64\n",
      " 7   earliest_cr_line            590977 non-null  object \n",
      " 8   emp_length                  590977 non-null  object \n",
      " 9   funded_amnt                 590977 non-null  float64\n",
      " 10  home_ownership              590977 non-null  object \n",
      " 11  inq_last_12m                590977 non-null  float64\n",
      " 12  installment                 590977 non-null  float64\n",
      " 13  int_rate                    590977 non-null  float64\n",
      " 14  issue_d                     590977 non-null  object \n",
      " 15  loan_amnt                   590977 non-null  float64\n",
      " 16  mort_acc                    590977 non-null  float64\n",
      " 17  mths_since_last_delinq      590977 non-null  float64\n",
      " 18  mths_since_recent_bc_dlq    590977 non-null  float64\n",
      " 19  mths_since_recent_inq       590977 non-null  float64\n",
      " 20  num_accts_ever_120_pd       590977 non-null  float64\n",
      " 21  num_actv_bc_tl              590977 non-null  float64\n",
      " 22  num_rev_accts               590977 non-null  float64\n",
      " 23  num_sats                    590977 non-null  float64\n",
      " 24  num_tl_120dpd_2m            590977 non-null  float64\n",
      " 25  num_tl_30dpd                590977 non-null  float64\n",
      " 26  num_tl_90g_dpd_24m          590977 non-null  float64\n",
      " 27  num_tl_op_past_12m          590977 non-null  float64\n",
      " 28  open_il_24m                 590977 non-null  float64\n",
      " 29  open_rv_24m                 590977 non-null  float64\n",
      " 30  percent_bc_gt_75            590977 non-null  float64\n",
      " 31  pub_rec                     590977 non-null  float64\n",
      " 32  pub_rec_bankruptcies        590977 non-null  float64\n",
      " 33  purpose                     590977 non-null  object \n",
      " 34  revol_util                  590977 non-null  float64\n",
      " 35  tax_liens                   590977 non-null  float64\n",
      " 36  term                        590977 non-null  object \n",
      " 37  title                       590977 non-null  object \n",
      " 38  total_acc                   590977 non-null  float64\n",
      " 39  verification_status         590977 non-null  object \n",
      " 40  zip_code                    590977 non-null  object \n",
      " 41  fico_mean                   590977 non-null  float64\n",
      " 42  year_issue                  590977 non-null  int32  \n",
      " 43  year_earl                   590977 non-null  int32  \n",
      "dtypes: float64(32), int32(2), object(10)\n",
      "memory usage: 198.4+ MB\n"
     ]
    }
   ],
   "source": [
    "df1.info()"
   ]
  },
  {
   "cell_type": "code",
   "execution_count": 44,
   "id": "59317e9b-1fdc-446e-a3d4-c929c499c6e2",
   "metadata": {},
   "outputs": [],
   "source": [
    "x_train=df\n",
    "x_test=df1"
   ]
  },
  {
   "cell_type": "code",
   "execution_count": 45,
   "id": "e7172625-4819-4f6a-b495-1f2873be42cf",
   "metadata": {},
   "outputs": [],
   "source": [
    "def get_categorical_indicies(x_train):\n",
    "    cats = []\n",
    "    for col in x_train.columns:\n",
    "        if is_numeric_dtype(x_train[col]):\n",
    "            pass\n",
    "        else:\n",
    "            cats.append(col)\n",
    "    cat_indicies = []\n",
    "    for col in cats:\n",
    "        cat_indicies.append(x_train.columns.get_loc(col))\n",
    "    return cat_indicies\n",
    "categorical_indicies = get_categorical_indicies(x_train)\n",
    "\n",
    "def convert_cats(x_train):\n",
    "    cats = []\n",
    "    for col in x_train.columns:\n",
    "        if is_numeric_dtype(x_train[col]):\n",
    "            pass\n",
    "        else:\n",
    "            cats.append(col)\n",
    "    cat_indicies = []\n",
    "    for col in cats:\n",
    "        x_train[col] = x_train[col].astype('category')\n",
    "convert_cats(x_train)"
   ]
  },
  {
   "cell_type": "code",
   "execution_count": 46,
   "id": "f5c1f2c6-d921-45a4-a212-cc07533ad2d4",
   "metadata": {},
   "outputs": [],
   "source": [
    "def get_categorical_indicies1(x_test):\n",
    "    cats1 = []\n",
    "    for col in x_test.columns:\n",
    "        if is_numeric_dtype(x_test[col]):\n",
    "            pass\n",
    "        else:\n",
    "            cats1.append(col)\n",
    "    cat_indicies1 = []\n",
    "    for col in cats1:\n",
    "        cat_indicies1.append(x_test.columns.get_loc(col))\n",
    "    return cat_indicies1\n",
    "categorical_indicies1 = get_categorical_indicies1(x_test)\n",
    "\n",
    "def convert_cats1(x_test):\n",
    "    cats1 = []\n",
    "    for col in x_test.columns:\n",
    "        if is_numeric_dtype(x_test[col]):\n",
    "            pass\n",
    "        else:\n",
    "            cats1.append(col)\n",
    "    cat_indicies1 = []\n",
    "    for col in cats1:\n",
    "        x_test[col] = x_test[col].astype('category')\n",
    "convert_cats1(x_test)"
   ]
  },
  {
   "cell_type": "code",
   "execution_count": 47,
   "id": "2ee2ac53-4dbb-4490-945a-e0db7e45b98c",
   "metadata": {},
   "outputs": [
    {
     "name": "stdout",
     "output_type": "stream",
     "text": [
      "[1, 7, 8, 10, 14, 33, 36, 37, 39, 40]\n",
      "[1, 7, 8, 10, 14, 33, 36, 37, 39, 40]\n"
     ]
    }
   ],
   "source": [
    "print(categorical_indicies)\n",
    "print(categorical_indicies1)"
   ]
  },
  {
   "cell_type": "code",
   "execution_count": 48,
   "id": "4d330944-a9da-4fab-90a0-3b06a1b509a4",
   "metadata": {},
   "outputs": [
    {
     "name": "stdout",
     "output_type": "stream",
     "text": [
      "<class 'pandas.core.frame.DataFrame'>\n",
      "Index: 1199861 entries, 0 to 1199860\n",
      "Data columns (total 44 columns):\n",
      " #   Column                      Non-Null Count    Dtype   \n",
      "---  ------                      --------------    -----   \n",
      " 0   acc_now_delinq              1199861 non-null  float64 \n",
      " 1   addr_state                  1199861 non-null  category\n",
      " 2   annual_inc                  1199861 non-null  float64 \n",
      " 3   chargeoff_within_12_mths    1199861 non-null  float64 \n",
      " 4   collections_12_mths_ex_med  1199861 non-null  float64 \n",
      " 5   delinq_2yrs                 1199861 non-null  float64 \n",
      " 6   dti                         1199861 non-null  float64 \n",
      " 7   earliest_cr_line            1199861 non-null  category\n",
      " 8   emp_length                  1199861 non-null  category\n",
      " 9   funded_amnt                 1199861 non-null  float64 \n",
      " 10  home_ownership              1199861 non-null  category\n",
      " 11  inq_last_12m                1199861 non-null  float64 \n",
      " 12  installment                 1199861 non-null  float64 \n",
      " 13  int_rate                    1199861 non-null  float64 \n",
      " 14  issue_d                     1199861 non-null  category\n",
      " 15  loan_amnt                   1199861 non-null  float64 \n",
      " 16  mort_acc                    1199861 non-null  float64 \n",
      " 17  mths_since_last_delinq      1199861 non-null  float64 \n",
      " 18  mths_since_recent_bc_dlq    1199861 non-null  float64 \n",
      " 19  mths_since_recent_inq       1199861 non-null  float64 \n",
      " 20  num_accts_ever_120_pd       1199861 non-null  float64 \n",
      " 21  num_actv_bc_tl              1199861 non-null  float64 \n",
      " 22  num_rev_accts               1199861 non-null  float64 \n",
      " 23  num_sats                    1199861 non-null  float64 \n",
      " 24  num_tl_120dpd_2m            1199861 non-null  float64 \n",
      " 25  num_tl_30dpd                1199861 non-null  float64 \n",
      " 26  num_tl_90g_dpd_24m          1199861 non-null  float64 \n",
      " 27  num_tl_op_past_12m          1199861 non-null  float64 \n",
      " 28  open_il_24m                 1199861 non-null  float64 \n",
      " 29  open_rv_24m                 1199861 non-null  float64 \n",
      " 30  percent_bc_gt_75            1199861 non-null  float64 \n",
      " 31  pub_rec                     1199861 non-null  float64 \n",
      " 32  pub_rec_bankruptcies        1199861 non-null  float64 \n",
      " 33  purpose                     1199861 non-null  category\n",
      " 34  revol_util                  1199861 non-null  float64 \n",
      " 35  tax_liens                   1199861 non-null  float64 \n",
      " 36  term                        1199861 non-null  category\n",
      " 37  title                       1199861 non-null  category\n",
      " 38  total_acc                   1199861 non-null  float64 \n",
      " 39  verification_status         1199861 non-null  category\n",
      " 40  zip_code                    1199861 non-null  category\n",
      " 41  fico_mean                   1199861 non-null  float64 \n",
      " 42  year_issue                  1199861 non-null  int32   \n",
      " 43  year_earl                   1199861 non-null  int32   \n",
      "dtypes: category(10), float64(32), int32(2)\n",
      "memory usage: 331.0 MB\n"
     ]
    }
   ],
   "source": [
    "x_train.info()"
   ]
  },
  {
   "cell_type": "code",
   "execution_count": 49,
   "id": "f8b49bb0-a6cc-4522-9620-87833cc2101f",
   "metadata": {},
   "outputs": [
    {
     "name": "stdout",
     "output_type": "stream",
     "text": [
      "<class 'pandas.core.frame.DataFrame'>\n",
      "Index: 590977 entries, 0 to 590976\n",
      "Data columns (total 44 columns):\n",
      " #   Column                      Non-Null Count   Dtype   \n",
      "---  ------                      --------------   -----   \n",
      " 0   acc_now_delinq              590977 non-null  float64 \n",
      " 1   addr_state                  590977 non-null  category\n",
      " 2   annual_inc                  590977 non-null  float64 \n",
      " 3   chargeoff_within_12_mths    590977 non-null  float64 \n",
      " 4   collections_12_mths_ex_med  590977 non-null  float64 \n",
      " 5   delinq_2yrs                 590977 non-null  float64 \n",
      " 6   dti                         590977 non-null  float64 \n",
      " 7   earliest_cr_line            590977 non-null  category\n",
      " 8   emp_length                  590977 non-null  category\n",
      " 9   funded_amnt                 590977 non-null  float64 \n",
      " 10  home_ownership              590977 non-null  category\n",
      " 11  inq_last_12m                590977 non-null  float64 \n",
      " 12  installment                 590977 non-null  float64 \n",
      " 13  int_rate                    590977 non-null  float64 \n",
      " 14  issue_d                     590977 non-null  category\n",
      " 15  loan_amnt                   590977 non-null  float64 \n",
      " 16  mort_acc                    590977 non-null  float64 \n",
      " 17  mths_since_last_delinq      590977 non-null  float64 \n",
      " 18  mths_since_recent_bc_dlq    590977 non-null  float64 \n",
      " 19  mths_since_recent_inq       590977 non-null  float64 \n",
      " 20  num_accts_ever_120_pd       590977 non-null  float64 \n",
      " 21  num_actv_bc_tl              590977 non-null  float64 \n",
      " 22  num_rev_accts               590977 non-null  float64 \n",
      " 23  num_sats                    590977 non-null  float64 \n",
      " 24  num_tl_120dpd_2m            590977 non-null  float64 \n",
      " 25  num_tl_30dpd                590977 non-null  float64 \n",
      " 26  num_tl_90g_dpd_24m          590977 non-null  float64 \n",
      " 27  num_tl_op_past_12m          590977 non-null  float64 \n",
      " 28  open_il_24m                 590977 non-null  float64 \n",
      " 29  open_rv_24m                 590977 non-null  float64 \n",
      " 30  percent_bc_gt_75            590977 non-null  float64 \n",
      " 31  pub_rec                     590977 non-null  float64 \n",
      " 32  pub_rec_bankruptcies        590977 non-null  float64 \n",
      " 33  purpose                     590977 non-null  category\n",
      " 34  revol_util                  590977 non-null  float64 \n",
      " 35  tax_liens                   590977 non-null  float64 \n",
      " 36  term                        590977 non-null  category\n",
      " 37  title                       590977 non-null  category\n",
      " 38  total_acc                   590977 non-null  float64 \n",
      " 39  verification_status         590977 non-null  category\n",
      " 40  zip_code                    590977 non-null  category\n",
      " 41  fico_mean                   590977 non-null  float64 \n",
      " 42  year_issue                  590977 non-null  int32   \n",
      " 43  year_earl                   590977 non-null  int32   \n",
      "dtypes: category(10), float64(32), int32(2)\n",
      "memory usage: 161.9 MB\n"
     ]
    }
   ],
   "source": [
    "x_test.info()"
   ]
  },
  {
   "cell_type": "code",
   "execution_count": 50,
   "id": "deac56d2-0588-4d3d-a94c-720bff733ab8",
   "metadata": {},
   "outputs": [],
   "source": [
    "for col,name in enumerate(x_train):\n",
    "    if col in categorical_indicies:\n",
    "        pass\n",
    "    else:\n",
    "        x_train[name] = x_train[name].astype(str)"
   ]
  },
  {
   "cell_type": "code",
   "execution_count": 51,
   "id": "5980d8dc-7fcd-4f13-b8e7-efd3127df408",
   "metadata": {},
   "outputs": [],
   "source": [
    "for col,name in enumerate(x_test):\n",
    "    if col in categorical_indicies1:\n",
    "        pass\n",
    "    else:\n",
    "        x_test[name] = x_test[name].astype(str)"
   ]
  },
  {
   "cell_type": "code",
   "execution_count": 52,
   "id": "8d62a218-890d-48aa-9ace-a3d490bc8297",
   "metadata": {},
   "outputs": [
    {
     "name": "stdout",
     "output_type": "stream",
     "text": [
      "<class 'pandas.core.frame.DataFrame'>\n",
      "Index: 1199861 entries, 0 to 1199860\n",
      "Data columns (total 44 columns):\n",
      " #   Column                      Non-Null Count    Dtype   \n",
      "---  ------                      --------------    -----   \n",
      " 0   acc_now_delinq              1199861 non-null  object  \n",
      " 1   addr_state                  1199861 non-null  category\n",
      " 2   annual_inc                  1199861 non-null  object  \n",
      " 3   chargeoff_within_12_mths    1199861 non-null  object  \n",
      " 4   collections_12_mths_ex_med  1199861 non-null  object  \n",
      " 5   delinq_2yrs                 1199861 non-null  object  \n",
      " 6   dti                         1199861 non-null  object  \n",
      " 7   earliest_cr_line            1199861 non-null  category\n",
      " 8   emp_length                  1199861 non-null  category\n",
      " 9   funded_amnt                 1199861 non-null  object  \n",
      " 10  home_ownership              1199861 non-null  category\n",
      " 11  inq_last_12m                1199861 non-null  object  \n",
      " 12  installment                 1199861 non-null  object  \n",
      " 13  int_rate                    1199861 non-null  object  \n",
      " 14  issue_d                     1199861 non-null  category\n",
      " 15  loan_amnt                   1199861 non-null  object  \n",
      " 16  mort_acc                    1199861 non-null  object  \n",
      " 17  mths_since_last_delinq      1199861 non-null  object  \n",
      " 18  mths_since_recent_bc_dlq    1199861 non-null  object  \n",
      " 19  mths_since_recent_inq       1199861 non-null  object  \n",
      " 20  num_accts_ever_120_pd       1199861 non-null  object  \n",
      " 21  num_actv_bc_tl              1199861 non-null  object  \n",
      " 22  num_rev_accts               1199861 non-null  object  \n",
      " 23  num_sats                    1199861 non-null  object  \n",
      " 24  num_tl_120dpd_2m            1199861 non-null  object  \n",
      " 25  num_tl_30dpd                1199861 non-null  object  \n",
      " 26  num_tl_90g_dpd_24m          1199861 non-null  object  \n",
      " 27  num_tl_op_past_12m          1199861 non-null  object  \n",
      " 28  open_il_24m                 1199861 non-null  object  \n",
      " 29  open_rv_24m                 1199861 non-null  object  \n",
      " 30  percent_bc_gt_75            1199861 non-null  object  \n",
      " 31  pub_rec                     1199861 non-null  object  \n",
      " 32  pub_rec_bankruptcies        1199861 non-null  object  \n",
      " 33  purpose                     1199861 non-null  category\n",
      " 34  revol_util                  1199861 non-null  object  \n",
      " 35  tax_liens                   1199861 non-null  object  \n",
      " 36  term                        1199861 non-null  category\n",
      " 37  title                       1199861 non-null  category\n",
      " 38  total_acc                   1199861 non-null  object  \n",
      " 39  verification_status         1199861 non-null  category\n",
      " 40  zip_code                    1199861 non-null  category\n",
      " 41  fico_mean                   1199861 non-null  object  \n",
      " 42  year_issue                  1199861 non-null  object  \n",
      " 43  year_earl                   1199861 non-null  object  \n",
      "dtypes: category(10), object(34)\n",
      "memory usage: 340.1+ MB\n"
     ]
    }
   ],
   "source": [
    "x_train.info()"
   ]
  },
  {
   "cell_type": "code",
   "execution_count": 53,
   "id": "50623879-ddda-44f2-a094-44db45cdaa80",
   "metadata": {},
   "outputs": [
    {
     "name": "stdout",
     "output_type": "stream",
     "text": [
      "<class 'pandas.core.frame.DataFrame'>\n",
      "Index: 590977 entries, 0 to 590976\n",
      "Data columns (total 44 columns):\n",
      " #   Column                      Non-Null Count   Dtype   \n",
      "---  ------                      --------------   -----   \n",
      " 0   acc_now_delinq              590977 non-null  object  \n",
      " 1   addr_state                  590977 non-null  category\n",
      " 2   annual_inc                  590977 non-null  object  \n",
      " 3   chargeoff_within_12_mths    590977 non-null  object  \n",
      " 4   collections_12_mths_ex_med  590977 non-null  object  \n",
      " 5   delinq_2yrs                 590977 non-null  object  \n",
      " 6   dti                         590977 non-null  object  \n",
      " 7   earliest_cr_line            590977 non-null  category\n",
      " 8   emp_length                  590977 non-null  category\n",
      " 9   funded_amnt                 590977 non-null  object  \n",
      " 10  home_ownership              590977 non-null  category\n",
      " 11  inq_last_12m                590977 non-null  object  \n",
      " 12  installment                 590977 non-null  object  \n",
      " 13  int_rate                    590977 non-null  object  \n",
      " 14  issue_d                     590977 non-null  category\n",
      " 15  loan_amnt                   590977 non-null  object  \n",
      " 16  mort_acc                    590977 non-null  object  \n",
      " 17  mths_since_last_delinq      590977 non-null  object  \n",
      " 18  mths_since_recent_bc_dlq    590977 non-null  object  \n",
      " 19  mths_since_recent_inq       590977 non-null  object  \n",
      " 20  num_accts_ever_120_pd       590977 non-null  object  \n",
      " 21  num_actv_bc_tl              590977 non-null  object  \n",
      " 22  num_rev_accts               590977 non-null  object  \n",
      " 23  num_sats                    590977 non-null  object  \n",
      " 24  num_tl_120dpd_2m            590977 non-null  object  \n",
      " 25  num_tl_30dpd                590977 non-null  object  \n",
      " 26  num_tl_90g_dpd_24m          590977 non-null  object  \n",
      " 27  num_tl_op_past_12m          590977 non-null  object  \n",
      " 28  open_il_24m                 590977 non-null  object  \n",
      " 29  open_rv_24m                 590977 non-null  object  \n",
      " 30  percent_bc_gt_75            590977 non-null  object  \n",
      " 31  pub_rec                     590977 non-null  object  \n",
      " 32  pub_rec_bankruptcies        590977 non-null  object  \n",
      " 33  purpose                     590977 non-null  category\n",
      " 34  revol_util                  590977 non-null  object  \n",
      " 35  tax_liens                   590977 non-null  object  \n",
      " 36  term                        590977 non-null  category\n",
      " 37  title                       590977 non-null  category\n",
      " 38  total_acc                   590977 non-null  object  \n",
      " 39  verification_status         590977 non-null  category\n",
      " 40  zip_code                    590977 non-null  category\n",
      " 41  fico_mean                   590977 non-null  object  \n",
      " 42  year_issue                  590977 non-null  object  \n",
      " 43  year_earl                   590977 non-null  object  \n",
      "dtypes: category(10), object(34)\n",
      "memory usage: 166.5+ MB\n"
     ]
    }
   ],
   "source": [
    "x_test.info()"
   ]
  },
  {
   "cell_type": "code",
   "execution_count": 54,
   "id": "8f22010e-7493-4fcd-8d5f-69411104ba9e",
   "metadata": {},
   "outputs": [],
   "source": [
    "train_dataset = cb.Pool(x_train,y_train,\n",
    "                        cat_features=categorical_indicies)"
   ]
  },
  {
   "cell_type": "code",
   "execution_count": 55,
   "id": "f192f64c-ee59-4dc2-9946-590b2d18412c",
   "metadata": {
    "tags": []
   },
   "outputs": [
    {
     "name": "stdout",
     "output_type": "stream",
     "text": [
      "(1199861, 44)\n",
      "(590977, 44)\n",
      "(1199861,)\n"
     ]
    }
   ],
   "source": [
    "print(x_train.shape)\n",
    "print(x_test.shape)\n",
    "print(y_train.shape)"
   ]
  },
  {
   "cell_type": "code",
   "execution_count": 56,
   "id": "2f58efd3-adc0-4191-bf72-843b20d7661c",
   "metadata": {
    "tags": []
   },
   "outputs": [
    {
     "name": "stdout",
     "output_type": "stream",
     "text": [
      "0:\tlearn: 0.6817796\ttotal: 121ms\tremaining: 7m 28s\n",
      "100:\tlearn: 0.4464523\ttotal: 12.5s\tremaining: 7m 26s\n",
      "200:\tlearn: 0.4386106\ttotal: 25.1s\tremaining: 7m 17s\n",
      "300:\tlearn: 0.4359438\ttotal: 37.9s\tremaining: 7m 7s\n",
      "400:\tlearn: 0.4339494\ttotal: 49.9s\tremaining: 6m 50s\n",
      "500:\tlearn: 0.4324095\ttotal: 1m 1s\tremaining: 6m 35s\n",
      "600:\tlearn: 0.4308707\ttotal: 1m 14s\tremaining: 6m 23s\n",
      "700:\tlearn: 0.4294309\ttotal: 1m 27s\tremaining: 6m 12s\n",
      "800:\tlearn: 0.4279456\ttotal: 1m 39s\tremaining: 6m 1s\n",
      "900:\tlearn: 0.4266122\ttotal: 1m 52s\tremaining: 5m 50s\n",
      "1000:\tlearn: 0.4253917\ttotal: 2m 5s\tremaining: 5m 39s\n",
      "1100:\tlearn: 0.4242096\ttotal: 2m 18s\tremaining: 5m 27s\n",
      "1200:\tlearn: 0.4229946\ttotal: 2m 31s\tremaining: 5m 14s\n",
      "1300:\tlearn: 0.4218814\ttotal: 2m 43s\tremaining: 5m 1s\n",
      "1400:\tlearn: 0.4208279\ttotal: 2m 56s\tremaining: 4m 49s\n",
      "1500:\tlearn: 0.4197933\ttotal: 3m 9s\tremaining: 4m 37s\n",
      "1600:\tlearn: 0.4187823\ttotal: 3m 21s\tremaining: 4m 24s\n",
      "1700:\tlearn: 0.4178021\ttotal: 3m 34s\tremaining: 4m 12s\n",
      "1800:\tlearn: 0.4167994\ttotal: 3m 47s\tremaining: 3m 59s\n",
      "1900:\tlearn: 0.4157901\ttotal: 4m\tremaining: 3m 47s\n",
      "2000:\tlearn: 0.4147313\ttotal: 4m 13s\tremaining: 3m 35s\n",
      "2100:\tlearn: 0.4137521\ttotal: 4m 26s\tremaining: 3m 22s\n",
      "2200:\tlearn: 0.4127909\ttotal: 4m 39s\tremaining: 3m 10s\n",
      "2300:\tlearn: 0.4118237\ttotal: 4m 52s\tremaining: 2m 57s\n",
      "2400:\tlearn: 0.4108870\ttotal: 5m 4s\tremaining: 2m 44s\n",
      "2500:\tlearn: 0.4099562\ttotal: 5m 17s\tremaining: 2m 32s\n",
      "2600:\tlearn: 0.4089932\ttotal: 5m 30s\tremaining: 2m 19s\n",
      "2700:\tlearn: 0.4081462\ttotal: 5m 43s\tremaining: 2m 6s\n",
      "2800:\tlearn: 0.4072005\ttotal: 5m 56s\tremaining: 1m 54s\n",
      "2900:\tlearn: 0.4062264\ttotal: 6m 9s\tremaining: 1m 41s\n",
      "3000:\tlearn: 0.4052504\ttotal: 6m 22s\tremaining: 1m 29s\n",
      "3100:\tlearn: 0.4043471\ttotal: 6m 35s\tremaining: 1m 16s\n",
      "3200:\tlearn: 0.4034796\ttotal: 6m 48s\tremaining: 1m 3s\n",
      "3300:\tlearn: 0.4025349\ttotal: 7m 1s\tremaining: 50.9s\n",
      "3400:\tlearn: 0.4016188\ttotal: 7m 14s\tremaining: 38.2s\n",
      "3500:\tlearn: 0.4007505\ttotal: 7m 26s\tremaining: 25.4s\n",
      "3600:\tlearn: 0.3998230\ttotal: 7m 39s\tremaining: 12.6s\n",
      "3699:\tlearn: 0.3989617\ttotal: 7m 52s\tremaining: 0us\n"
     ]
    },
    {
     "data": {
      "text/plain": [
       "<catboost.core.CatBoostClassifier at 0x7f69c06e9590>"
      ]
     },
     "execution_count": 56,
     "metadata": {},
     "output_type": "execute_result"
    }
   ],
   "source": [
    "CAT=cb.CatBoostClassifier(metric_period=100,\n",
    "                          task_type='GPU',\n",
    "                          iterations=3700, \n",
    "                          learning_rate=0.02,\n",
    "                          depth=10,\n",
    "                         )\n",
    "CAT.fit(train_dataset)"
   ]
  },
  {
   "cell_type": "code",
   "execution_count": 57,
   "id": "3a89d32e-8c98-42ee-8167-f40a2598df91",
   "metadata": {
    "tags": []
   },
   "outputs": [
    {
     "data": {
      "text/plain": [
       "array([1, 0, 0, ..., 0, 0, 0])"
      ]
     },
     "execution_count": 57,
     "metadata": {},
     "output_type": "execute_result"
    }
   ],
   "source": [
    "predictions = CAT.predict(x_test)\n",
    "predictions"
   ]
  },
  {
   "cell_type": "code",
   "execution_count": 58,
   "id": "b09874df-22fe-4e1e-a1f7-5cd7521c652f",
   "metadata": {
    "tags": []
   },
   "outputs": [
    {
     "data": {
      "text/plain": [
       "array([[0.42930349, 0.57069651],\n",
       "       [0.71623526, 0.28376474],\n",
       "       [0.85246541, 0.14753459],\n",
       "       ...,\n",
       "       [0.78531922, 0.21468078],\n",
       "       [0.95224266, 0.04775734],\n",
       "       [0.83137116, 0.16862884]])"
      ]
     },
     "execution_count": 58,
     "metadata": {},
     "output_type": "execute_result"
    }
   ],
   "source": [
    "predict_proba= CAT.predict_proba(x_test)\n",
    "predict_proba"
   ]
  },
  {
   "cell_type": "code",
   "execution_count": 59,
   "id": "b9e0c4fb-0ff4-4b81-92a2-511d2151e76f",
   "metadata": {
    "tags": []
   },
   "outputs": [
    {
     "data": {
      "text/html": [
       "<div>\n",
       "<style scoped>\n",
       "    .dataframe tbody tr th:only-of-type {\n",
       "        vertical-align: middle;\n",
       "    }\n",
       "\n",
       "    .dataframe tbody tr th {\n",
       "        vertical-align: top;\n",
       "    }\n",
       "\n",
       "    .dataframe thead th {\n",
       "        text-align: right;\n",
       "    }\n",
       "</style>\n",
       "<table border=\"1\" class=\"dataframe\">\n",
       "  <thead>\n",
       "    <tr style=\"text-align: right;\">\n",
       "      <th></th>\n",
       "      <th>loan_status</th>\n",
       "    </tr>\n",
       "    <tr>\n",
       "      <th>index</th>\n",
       "      <th></th>\n",
       "    </tr>\n",
       "  </thead>\n",
       "  <tbody>\n",
       "    <tr>\n",
       "      <th>0</th>\n",
       "      <td>0.5707</td>\n",
       "    </tr>\n",
       "    <tr>\n",
       "      <th>1</th>\n",
       "      <td>0.2838</td>\n",
       "    </tr>\n",
       "    <tr>\n",
       "      <th>2</th>\n",
       "      <td>0.1475</td>\n",
       "    </tr>\n",
       "    <tr>\n",
       "      <th>3</th>\n",
       "      <td>0.0514</td>\n",
       "    </tr>\n",
       "    <tr>\n",
       "      <th>4</th>\n",
       "      <td>0.0740</td>\n",
       "    </tr>\n",
       "    <tr>\n",
       "      <th>...</th>\n",
       "      <td>...</td>\n",
       "    </tr>\n",
       "    <tr>\n",
       "      <th>590972</th>\n",
       "      <td>0.1066</td>\n",
       "    </tr>\n",
       "    <tr>\n",
       "      <th>590973</th>\n",
       "      <td>0.2371</td>\n",
       "    </tr>\n",
       "    <tr>\n",
       "      <th>590974</th>\n",
       "      <td>0.2147</td>\n",
       "    </tr>\n",
       "    <tr>\n",
       "      <th>590975</th>\n",
       "      <td>0.0478</td>\n",
       "    </tr>\n",
       "    <tr>\n",
       "      <th>590976</th>\n",
       "      <td>0.1686</td>\n",
       "    </tr>\n",
       "  </tbody>\n",
       "</table>\n",
       "<p>590977 rows × 1 columns</p>\n",
       "</div>"
      ],
      "text/plain": [
       "        loan_status\n",
       "index              \n",
       "0            0.5707\n",
       "1            0.2838\n",
       "2            0.1475\n",
       "3            0.0514\n",
       "4            0.0740\n",
       "...             ...\n",
       "590972       0.1066\n",
       "590973       0.2371\n",
       "590974       0.2147\n",
       "590975       0.0478\n",
       "590976       0.1686\n",
       "\n",
       "[590977 rows x 1 columns]"
      ]
     },
     "execution_count": 59,
     "metadata": {},
     "output_type": "execute_result"
    }
   ],
   "source": [
    "answer=pd.DataFrame(predict_proba[:,1], columns=[\"loan_status\"], dtype=None, copy=False)\n",
    "answer.index.rename('index', inplace= True )\n",
    "answer"
   ]
  }
 ],
 "metadata": {
  "kernelspec": {
   "display_name": "Python 3 (ipykernel)",
   "language": "python",
   "name": "python3"
  },
  "language_info": {
   "codemirror_mode": {
    "name": "ipython",
    "version": 3
   },
   "file_extension": ".py",
   "mimetype": "text/x-python",
   "name": "python",
   "nbconvert_exporter": "python",
   "pygments_lexer": "ipython3",
   "version": "3.11.4"
  }
 },
 "nbformat": 4,
 "nbformat_minor": 5
}
